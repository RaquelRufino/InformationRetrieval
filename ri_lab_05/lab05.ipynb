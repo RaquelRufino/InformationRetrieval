{
  "nbformat": 4,
  "nbformat_minor": 0,
  "metadata": {
    "colab": {
      "name": "lab05.ipynb",
      "version": "0.3.2",
      "provenance": [],
      "collapsed_sections": [],
      "include_colab_link": true
    },
    "kernelspec": {
      "name": "python3",
      "display_name": "Python 3"
    }
  },
  "cells": [
    {
      "cell_type": "markdown",
      "metadata": {
        "id": "view-in-github",
        "colab_type": "text"
      },
      "source": [
        "<a href=\"https://colab.research.google.com/github/RaquelRufino/InformationRetrieval/blob/master/ri_lab_05/lab05.ipynb\" target=\"_parent\"><img src=\"https://colab.research.google.com/assets/colab-badge.svg\" alt=\"Open In Colab\"/></a>"
      ]
    },
    {
      "cell_type": "code",
      "metadata": {
        "id": "_A0OXkkbujZC",
        "colab_type": "code",
        "colab": {
          "base_uri": "https://localhost:8080/",
          "height": 68
        },
        "outputId": "167bae76-bcf5-4023-ae45-fb2d68105e84"
      },
      "source": [
        "import pandas as pd\n",
        "import numpy as np\n",
        "import nltk\n",
        "import re\n",
        "import collections\n",
        "import heapq\n",
        "import time\n",
        "import bisect\n",
        "import math\n",
        "import random\n",
        "from nltk.tokenize import RegexpTokenizer\n",
        "\n",
        "nltk.download('stopwords')"
      ],
      "execution_count": 129,
      "outputs": [
        {
          "output_type": "stream",
          "text": [
            "[nltk_data] Downloading package stopwords to /root/nltk_data...\n",
            "[nltk_data]   Package stopwords is already up-to-date!\n"
          ],
          "name": "stdout"
        },
        {
          "output_type": "execute_result",
          "data": {
            "text/plain": [
              "True"
            ]
          },
          "metadata": {
            "tags": []
          },
          "execution_count": 129
        }
      ]
    },
    {
      "cell_type": "code",
      "metadata": {
        "id": "Okkfwgs3vP05",
        "colab_type": "code",
        "colab": {}
      },
      "source": [
        "result = pd.read_csv(\"https://raw.githubusercontent.com/RaquelRufino/InformationRetrieval/master/ri_lab_04/results.csv\")\n",
        "tknz = RegexpTokenizer(r'([A-Za-zÁáÉéÍíÓóÚúÃãÕõÇçÂâÊê]{3,27})')\n",
        "stopwords = nltk.corpus.stopwords.words('portuguese') \n",
        "ranking = {}\n",
        "n = 0\n",
        "\n",
        "for text in result.text:\n",
        "  words = [word for word in tknz.tokenize(text.lower())\n",
        "           if not bool(re.search(r'\\d', word))\n",
        "           and word not in stopwords and len(word) >= 3]  \n",
        "  n += 1\n",
        "  for t in words:\n",
        "    if t not in ranking.keys():\n",
        "      ranking[t] = []\n",
        "    ranking[t].append(n)\n",
        "    \n",
        "for elem in ranking.items():\n",
        "  d = dict(collections.Counter(elem[1]))\n",
        "  ranking[elem[0]] = list(d.items())\n",
        " "
      ],
      "execution_count": 0,
      "outputs": []
    },
    {
      "cell_type": "code",
      "metadata": {
        "id": "f2cDGhVMu6J7",
        "colab_type": "code",
        "colab": {}
      },
      "source": [
        "queries = [\"política\", \"presidente\", \"educação\", \"ministério\", \"empresa\"]"
      ],
      "execution_count": 0,
      "outputs": []
    },
    {
      "cell_type": "markdown",
      "metadata": {
        "id": "DgweQ-JYuCip",
        "colab_type": "text"
      },
      "source": [
        "### Calcule as top-10 palavras mais associadas a cada uma dessas 5 palavras de acordo com as 4 métricas que vimos na aula. Você deve produzir uma tabela similar à tabela 6.3 do capítulo 6 do livro texto (pág. 204). Qual métrica você acha que obteve os melhores resultados? Por que? (20 pts.)\n"
      ]
    },
    {
      "cell_type": "code",
      "metadata": {
        "id": "kBiGI0Sv18l9",
        "colab_type": "code",
        "colab": {}
      },
      "source": [
        "\n",
        "def n_docs_word(word, ranking):\n",
        "  return len(ranking[word])\n",
        "\n",
        "def n_docs_both(a, b, ranking):\n",
        "  docs_a = [doc for doc,score in ranking[a]]\n",
        "  docs_b = [doc for doc,score in ranking[b]]\n",
        "  n = 0\n",
        "  \n",
        "  for doc in docs_a:\n",
        "    if doc in docs_b:\n",
        "      n += 1\n",
        "      \n",
        "  return n"
      ],
      "execution_count": 0,
      "outputs": []
    },
    {
      "cell_type": "code",
      "metadata": {
        "id": "Wu_q5zxbuF0y",
        "colab_type": "code",
        "colab": {}
      },
      "source": [
        "def calc_mim(a, b, ranking):\n",
        "  n_a = n_docs_word(a, ranking)\n",
        "  n_b = n_docs_word(b, ranking)\n",
        "  n_ab = n_docs_both(a, b, ranking)\n",
        "  quo = (n_a * n_b)\n",
        "  mim = n_ab / quo if quo != 0 else 0\n",
        "  return (mim,b)\n",
        "  \n",
        "def calc_emim(a, b, ranking, n):\n",
        "  n_a = n_docs_word(a, ranking)\n",
        "  n_b = n_docs_word(b, ranking)\n",
        "  n_ab = n_docs_both(a, b, ranking)\n",
        "  quo = (n_a * n_b)\n",
        "  exp = n * (n_ab / quo) if quo != 0 else 0\n",
        "  emim = n_ab * np.log10(exp) if exp != 0 else 0\n",
        "  return (emim, b)\n",
        "  \n",
        "def calc_x(a, b, ranking, n):\n",
        "  n_a = n_docs_word(a, ranking)\n",
        "  n_b = n_docs_word(b, ranking)\n",
        "  n_ab = n_docs_both(a, b, ranking)\n",
        "  quo = (n_a * n_b)\n",
        "  x = (n_ab - (1 / n) * n_a * n_b) ** 2 / quo if quo != 0 else 0\n",
        "  return (x,b)\n",
        "  \n",
        "def calc_dice(a, b, ranking):\n",
        "  n_a = n_docs_word(a, ranking)\n",
        "  n_b = n_docs_word(b, ranking)\n",
        "  n_ab = n_docs_both(a, b, ranking)\n",
        "  dice = n_ab / (n_a + n_b)\n",
        "  return (dice,b)"
      ],
      "execution_count": 0,
      "outputs": []
    },
    {
      "cell_type": "code",
      "metadata": {
        "id": "rL0LffWN3MhJ",
        "colab_type": "code",
        "colab": {}
      },
      "source": [
        "def create_metrics_table(query, ranking, n):\n",
        "  top_10_table = pd.DataFrame()\n",
        "  MIM = []\n",
        "  EMIM = []\n",
        "  X = []\n",
        "  Dice = []\n",
        "  \n",
        "  for word in ranking:\n",
        "    if word != query:\n",
        "      bisect.insort(MIM, calc_mim(query, word, ranking))\n",
        "      bisect.insort(EMIM,calc_emim(query, word, ranking, n))\n",
        "      bisect.insort(X,calc_x(query, word, ranking, n))\n",
        "      bisect.insort(Dice,calc_dice(query, word, ranking))\n",
        "\n",
        "  MIM.reverse()\n",
        "  EMIM.reverse()\n",
        "  X.reverse()\n",
        "  Dice.reverse()\n",
        "  \n",
        "  top_10_table['MIM'] = [word[1] for word in MIM[:10]]\n",
        "  top_10_table['EMIM'] = [word[1] for word in EMIM[:10]]\n",
        "  top_10_table['X²'] = [word[1] for word in X[:10]]\n",
        "  top_10_table['Dice'] = [word[1] for word in Dice[:10]]\n",
        "  \n",
        "  top_10_table.index += 1\n",
        "  \n",
        "  return top_10_table"
      ],
      "execution_count": 0,
      "outputs": []
    },
    {
      "cell_type": "code",
      "metadata": {
        "id": "UiM1347Z3VHI",
        "colab_type": "code",
        "colab": {}
      },
      "source": [
        "n = result.text.count()\n",
        "table_1 = create_metrics_table(queries[0], ranking, n)\n",
        "table_2 = create_metrics_table(queries[1], ranking, n)\n",
        "table_3 = create_metrics_table(queries[2], ranking, n)\n",
        "table_4 = create_metrics_table(queries[3], ranking, n)\n",
        "table_5 = create_metrics_table(queries[4], ranking, n)"
      ],
      "execution_count": 0,
      "outputs": []
    },
    {
      "cell_type": "markdown",
      "metadata": {
        "id": "h7q4WAuC4QQZ",
        "colab_type": "text"
      },
      "source": [
        "1.1 Top-10 palavras associadas a 'política'\n"
      ]
    },
    {
      "cell_type": "code",
      "metadata": {
        "id": "TQMJcfzM4ZhK",
        "colab_type": "code",
        "colab": {
          "base_uri": "https://localhost:8080/",
          "height": 359
        },
        "outputId": "75501911-085d-48fb-b278-b735ea09ca64"
      },
      "source": [
        "table_1"
      ],
      "execution_count": 136,
      "outputs": [
        {
          "output_type": "execute_result",
          "data": {
            "text/html": [
              "<div>\n",
              "<style scoped>\n",
              "    .dataframe tbody tr th:only-of-type {\n",
              "        vertical-align: middle;\n",
              "    }\n",
              "\n",
              "    .dataframe tbody tr th {\n",
              "        vertical-align: top;\n",
              "    }\n",
              "\n",
              "    .dataframe thead th {\n",
              "        text-align: right;\n",
              "    }\n",
              "</style>\n",
              "<table border=\"1\" class=\"dataframe\">\n",
              "  <thead>\n",
              "    <tr style=\"text-align: right;\">\n",
              "      <th></th>\n",
              "      <th>MIM</th>\n",
              "      <th>EMIM</th>\n",
              "      <th>X²</th>\n",
              "      <th>Dice</th>\n",
              "    </tr>\n",
              "  </thead>\n",
              "  <tbody>\n",
              "    <tr>\n",
              "      <th>1</th>\n",
              "      <td>útero</td>\n",
              "      <td>político</td>\n",
              "      <td>político</td>\n",
              "      <td>país</td>\n",
              "    </tr>\n",
              "    <tr>\n",
              "      <th>2</th>\n",
              "      <td>úteis</td>\n",
              "      <td>cada</td>\n",
              "      <td>desigualdade</td>\n",
              "      <td>outros</td>\n",
              "    </tr>\n",
              "    <tr>\n",
              "      <th>3</th>\n",
              "      <td>úlceras</td>\n",
              "      <td>país</td>\n",
              "      <td>cientista</td>\n",
              "      <td>vez</td>\n",
              "    </tr>\n",
              "    <tr>\n",
              "      <th>4</th>\n",
              "      <td>ótimas</td>\n",
              "      <td>bolsonaro</td>\n",
              "      <td>eleições</td>\n",
              "      <td>cada</td>\n",
              "    </tr>\n",
              "    <tr>\n",
              "      <th>5</th>\n",
              "      <td>ópio</td>\n",
              "      <td>nacional</td>\n",
              "      <td>problemas</td>\n",
              "      <td>governo</td>\n",
              "    </tr>\n",
              "    <tr>\n",
              "      <th>6</th>\n",
              "      <td>óbvios</td>\n",
              "      <td>governo</td>\n",
              "      <td>força</td>\n",
              "      <td>menos</td>\n",
              "    </tr>\n",
              "    <tr>\n",
              "      <th>7</th>\n",
              "      <td>óbitos</td>\n",
              "      <td>estado</td>\n",
              "      <td>eleição</td>\n",
              "      <td>pode</td>\n",
              "    </tr>\n",
              "    <tr>\n",
              "      <th>8</th>\n",
              "      <td>ítalo</td>\n",
              "      <td>outros</td>\n",
              "      <td>estar</td>\n",
              "      <td>desde</td>\n",
              "    </tr>\n",
              "    <tr>\n",
              "      <th>9</th>\n",
              "      <td>índios</td>\n",
              "      <td>estar</td>\n",
              "      <td>economia</td>\n",
              "      <td>parte</td>\n",
              "    </tr>\n",
              "    <tr>\n",
              "      <th>10</th>\n",
              "      <td>êxito</td>\n",
              "      <td>economia</td>\n",
              "      <td>democracia</td>\n",
              "      <td>ser</td>\n",
              "    </tr>\n",
              "  </tbody>\n",
              "</table>\n",
              "</div>"
            ],
            "text/plain": [
              "        MIM       EMIM            X²     Dice\n",
              "1     útero   político      político     país\n",
              "2     úteis       cada  desigualdade   outros\n",
              "3   úlceras       país     cientista      vez\n",
              "4    ótimas  bolsonaro      eleições     cada\n",
              "5      ópio   nacional     problemas  governo\n",
              "6    óbvios    governo         força    menos\n",
              "7    óbitos     estado       eleição     pode\n",
              "8     ítalo     outros         estar    desde\n",
              "9    índios      estar      economia    parte\n",
              "10    êxito   economia    democracia      ser"
            ]
          },
          "metadata": {
            "tags": []
          },
          "execution_count": 136
        }
      ]
    },
    {
      "cell_type": "markdown",
      "metadata": {
        "colab_type": "text",
        "id": "NMewZ_Am4q1o"
      },
      "source": [
        "1.1 Top-10 palavras associadas a 'presidente'\n"
      ]
    },
    {
      "cell_type": "code",
      "metadata": {
        "colab_type": "code",
        "outputId": "3513b797-d4fa-4906-e912-ac0acdd1b05e",
        "id": "X5a0hs2d4q1u",
        "colab": {
          "base_uri": "https://localhost:8080/",
          "height": 359
        }
      },
      "source": [
        "table_2"
      ],
      "execution_count": 137,
      "outputs": [
        {
          "output_type": "execute_result",
          "data": {
            "text/html": [
              "<div>\n",
              "<style scoped>\n",
              "    .dataframe tbody tr th:only-of-type {\n",
              "        vertical-align: middle;\n",
              "    }\n",
              "\n",
              "    .dataframe tbody tr th {\n",
              "        vertical-align: top;\n",
              "    }\n",
              "\n",
              "    .dataframe thead th {\n",
              "        text-align: right;\n",
              "    }\n",
              "</style>\n",
              "<table border=\"1\" class=\"dataframe\">\n",
              "  <thead>\n",
              "    <tr style=\"text-align: right;\">\n",
              "      <th></th>\n",
              "      <th>MIM</th>\n",
              "      <th>EMIM</th>\n",
              "      <th>X²</th>\n",
              "      <th>Dice</th>\n",
              "    </tr>\n",
              "  </thead>\n",
              "  <tbody>\n",
              "    <tr>\n",
              "      <th>1</th>\n",
              "      <td>ótimas</td>\n",
              "      <td>bolsonaro</td>\n",
              "      <td>bolsonaro</td>\n",
              "      <td>feira</td>\n",
              "    </tr>\n",
              "    <tr>\n",
              "      <th>2</th>\n",
              "      <td>ódios</td>\n",
              "      <td>ministro</td>\n",
              "      <td>ministro</td>\n",
              "      <td>governo</td>\n",
              "    </tr>\n",
              "    <tr>\n",
              "      <th>3</th>\n",
              "      <td>óbvios</td>\n",
              "      <td>governo</td>\n",
              "      <td>deputado</td>\n",
              "      <td>bolsonaro</td>\n",
              "    </tr>\n",
              "    <tr>\n",
              "      <th>4</th>\n",
              "      <td>óbvias</td>\n",
              "      <td>feira</td>\n",
              "      <td>presidência</td>\n",
              "      <td>ainda</td>\n",
              "    </tr>\n",
              "    <tr>\n",
              "      <th>5</th>\n",
              "      <td>óbvia</td>\n",
              "      <td>político</td>\n",
              "      <td>governo</td>\n",
              "      <td>sobre</td>\n",
              "    </tr>\n",
              "    <tr>\n",
              "      <th>6</th>\n",
              "      <td>óbitos</td>\n",
              "      <td>segurança</td>\n",
              "      <td>político</td>\n",
              "      <td>país</td>\n",
              "    </tr>\n",
              "    <tr>\n",
              "      <th>7</th>\n",
              "      <td>íntegra</td>\n",
              "      <td>afirmou</td>\n",
              "      <td>câmara</td>\n",
              "      <td>ser</td>\n",
              "    </tr>\n",
              "    <tr>\n",
              "      <th>8</th>\n",
              "      <td>índole</td>\n",
              "      <td>deputado</td>\n",
              "      <td>vice</td>\n",
              "      <td>ministro</td>\n",
              "    </tr>\n",
              "    <tr>\n",
              "      <th>9</th>\n",
              "      <td>ídolos</td>\n",
              "      <td>câmara</td>\n",
              "      <td>segurança</td>\n",
              "      <td>ter</td>\n",
              "    </tr>\n",
              "    <tr>\n",
              "      <th>10</th>\n",
              "      <td>ícone</td>\n",
              "      <td>presidência</td>\n",
              "      <td>secretário</td>\n",
              "      <td>outros</td>\n",
              "    </tr>\n",
              "  </tbody>\n",
              "</table>\n",
              "</div>"
            ],
            "text/plain": [
              "        MIM         EMIM           X²       Dice\n",
              "1    ótimas    bolsonaro    bolsonaro      feira\n",
              "2     ódios     ministro     ministro    governo\n",
              "3    óbvios      governo     deputado  bolsonaro\n",
              "4    óbvias        feira  presidência      ainda\n",
              "5     óbvia     político      governo      sobre\n",
              "6    óbitos    segurança     político       país\n",
              "7   íntegra      afirmou       câmara        ser\n",
              "8    índole     deputado         vice   ministro\n",
              "9    ídolos       câmara    segurança        ter\n",
              "10    ícone  presidência   secretário     outros"
            ]
          },
          "metadata": {
            "tags": []
          },
          "execution_count": 137
        }
      ]
    },
    {
      "cell_type": "markdown",
      "metadata": {
        "colab_type": "text",
        "id": "bXbZ8G1l4vPH"
      },
      "source": [
        "1.1 Top-10 palavras associadas a  'educação''\n"
      ]
    },
    {
      "cell_type": "code",
      "metadata": {
        "colab_type": "code",
        "outputId": "4c984de8-0b3f-4510-8408-7ec4de4d1e2e",
        "id": "Sm_ISNH-4vPM",
        "colab": {
          "base_uri": "https://localhost:8080/",
          "height": 359
        }
      },
      "source": [
        "table_3"
      ],
      "execution_count": 138,
      "outputs": [
        {
          "output_type": "execute_result",
          "data": {
            "text/html": [
              "<div>\n",
              "<style scoped>\n",
              "    .dataframe tbody tr th:only-of-type {\n",
              "        vertical-align: middle;\n",
              "    }\n",
              "\n",
              "    .dataframe tbody tr th {\n",
              "        vertical-align: top;\n",
              "    }\n",
              "\n",
              "    .dataframe thead th {\n",
              "        text-align: right;\n",
              "    }\n",
              "</style>\n",
              "<table border=\"1\" class=\"dataframe\">\n",
              "  <thead>\n",
              "    <tr style=\"text-align: right;\">\n",
              "      <th></th>\n",
              "      <th>MIM</th>\n",
              "      <th>EMIM</th>\n",
              "      <th>X²</th>\n",
              "      <th>Dice</th>\n",
              "    </tr>\n",
              "  </thead>\n",
              "  <tbody>\n",
              "    <tr>\n",
              "      <th>1</th>\n",
              "      <td>óbvios</td>\n",
              "      <td>alunos</td>\n",
              "      <td>alunos</td>\n",
              "      <td>alunos</td>\n",
              "    </tr>\n",
              "    <tr>\n",
              "      <th>2</th>\n",
              "      <td>óbvias</td>\n",
              "      <td>escolas</td>\n",
              "      <td>vélez</td>\n",
              "      <td>escolas</td>\n",
              "    </tr>\n",
              "    <tr>\n",
              "      <th>3</th>\n",
              "      <td>óbvia</td>\n",
              "      <td>social</td>\n",
              "      <td>escolas</td>\n",
              "      <td>social</td>\n",
              "    </tr>\n",
              "    <tr>\n",
              "      <th>4</th>\n",
              "      <td>étnicos</td>\n",
              "      <td>escola</td>\n",
              "      <td>mec</td>\n",
              "      <td>mudanças</td>\n",
              "    </tr>\n",
              "    <tr>\n",
              "      <th>5</th>\n",
              "      <td>étnico</td>\n",
              "      <td>discurso</td>\n",
              "      <td>aulas</td>\n",
              "      <td>escola</td>\n",
              "    </tr>\n",
              "    <tr>\n",
              "      <th>6</th>\n",
              "      <td>átomo</td>\n",
              "      <td>governo</td>\n",
              "      <td>aula</td>\n",
              "      <td>discurso</td>\n",
              "    </tr>\n",
              "    <tr>\n",
              "      <th>7</th>\n",
              "      <td>árbitros</td>\n",
              "      <td>mudanças</td>\n",
              "      <td>aluno</td>\n",
              "      <td>comissão</td>\n",
              "    </tr>\n",
              "    <tr>\n",
              "      <th>8</th>\n",
              "      <td>zombava</td>\n",
              "      <td>comissão</td>\n",
              "      <td>pasta</td>\n",
              "      <td>necessidade</td>\n",
              "    </tr>\n",
              "    <tr>\n",
              "      <th>9</th>\n",
              "      <td>zeina</td>\n",
              "      <td>vélez</td>\n",
              "      <td>estudantes</td>\n",
              "      <td>jovens</td>\n",
              "    </tr>\n",
              "    <tr>\n",
              "      <th>10</th>\n",
              "      <td>zeca</td>\n",
              "      <td>pasta</td>\n",
              "      <td>educacional</td>\n",
              "      <td>pasta</td>\n",
              "    </tr>\n",
              "  </tbody>\n",
              "</table>\n",
              "</div>"
            ],
            "text/plain": [
              "         MIM      EMIM           X²         Dice\n",
              "1     óbvios    alunos       alunos       alunos\n",
              "2     óbvias   escolas        vélez      escolas\n",
              "3      óbvia    social      escolas       social\n",
              "4    étnicos    escola          mec     mudanças\n",
              "5     étnico  discurso        aulas       escola\n",
              "6      átomo   governo         aula     discurso\n",
              "7   árbitros  mudanças        aluno     comissão\n",
              "8    zombava  comissão        pasta  necessidade\n",
              "9      zeina     vélez   estudantes       jovens\n",
              "10      zeca     pasta  educacional        pasta"
            ]
          },
          "metadata": {
            "tags": []
          },
          "execution_count": 138
        }
      ]
    },
    {
      "cell_type": "markdown",
      "metadata": {
        "colab_type": "text",
        "id": "CRbOl2Ka4wCW"
      },
      "source": [
        "1.1 Top-10 palavras associadas a 'ministério'\n"
      ]
    },
    {
      "cell_type": "code",
      "metadata": {
        "colab_type": "code",
        "outputId": "38e3b85a-24c5-412e-a1e0-460ef3d33945",
        "id": "PTwpfns04wCb",
        "colab": {
          "base_uri": "https://localhost:8080/",
          "height": 359
        }
      },
      "source": [
        "table_4"
      ],
      "execution_count": 139,
      "outputs": [
        {
          "output_type": "execute_result",
          "data": {
            "text/html": [
              "<div>\n",
              "<style scoped>\n",
              "    .dataframe tbody tr th:only-of-type {\n",
              "        vertical-align: middle;\n",
              "    }\n",
              "\n",
              "    .dataframe tbody tr th {\n",
              "        vertical-align: top;\n",
              "    }\n",
              "\n",
              "    .dataframe thead th {\n",
              "        text-align: right;\n",
              "    }\n",
              "</style>\n",
              "<table border=\"1\" class=\"dataframe\">\n",
              "  <thead>\n",
              "    <tr style=\"text-align: right;\">\n",
              "      <th></th>\n",
              "      <th>MIM</th>\n",
              "      <th>EMIM</th>\n",
              "      <th>X²</th>\n",
              "      <th>Dice</th>\n",
              "    </tr>\n",
              "  </thead>\n",
              "  <tbody>\n",
              "    <tr>\n",
              "      <th>1</th>\n",
              "      <td>úteis</td>\n",
              "      <td>federal</td>\n",
              "      <td>pasta</td>\n",
              "      <td>federal</td>\n",
              "    </tr>\n",
              "    <tr>\n",
              "      <th>2</th>\n",
              "      <td>óbvios</td>\n",
              "      <td>ministro</td>\n",
              "      <td>federal</td>\n",
              "      <td>ministro</td>\n",
              "    </tr>\n",
              "    <tr>\n",
              "      <th>3</th>\n",
              "      <td>íntegra</td>\n",
              "      <td>público</td>\n",
              "      <td>feita</td>\n",
              "      <td>público</td>\n",
              "    </tr>\n",
              "    <tr>\n",
              "      <th>4</th>\n",
              "      <td>ídolos</td>\n",
              "      <td>militares</td>\n",
              "      <td>valores</td>\n",
              "      <td>militares</td>\n",
              "    </tr>\n",
              "    <tr>\n",
              "      <th>5</th>\n",
              "      <td>étnico</td>\n",
              "      <td>valores</td>\n",
              "      <td>vieira</td>\n",
              "      <td>valores</td>\n",
              "    </tr>\n",
              "    <tr>\n",
              "      <th>6</th>\n",
              "      <td>ético</td>\n",
              "      <td>feita</td>\n",
              "      <td>promovido</td>\n",
              "      <td>governo</td>\n",
              "    </tr>\n",
              "    <tr>\n",
              "      <th>7</th>\n",
              "      <td>ânus</td>\n",
              "      <td>psl</td>\n",
              "      <td>lamenta</td>\n",
              "      <td>disse</td>\n",
              "    </tr>\n",
              "    <tr>\n",
              "      <th>8</th>\n",
              "      <td>ângulos</td>\n",
              "      <td>governo</td>\n",
              "      <td>psl</td>\n",
              "      <td>rio</td>\n",
              "    </tr>\n",
              "    <tr>\n",
              "      <th>9</th>\n",
              "      <td>ângelo</td>\n",
              "      <td>pasta</td>\n",
              "      <td>cidadania</td>\n",
              "      <td>justiça</td>\n",
              "    </tr>\n",
              "    <tr>\n",
              "      <th>10</th>\n",
              "      <td>áudios</td>\n",
              "      <td>disse</td>\n",
              "      <td>ministro</td>\n",
              "      <td>chefe</td>\n",
              "    </tr>\n",
              "  </tbody>\n",
              "</table>\n",
              "</div>"
            ],
            "text/plain": [
              "        MIM       EMIM         X²       Dice\n",
              "1     úteis    federal      pasta    federal\n",
              "2    óbvios   ministro    federal   ministro\n",
              "3   íntegra    público      feita    público\n",
              "4    ídolos  militares    valores  militares\n",
              "5    étnico    valores     vieira    valores\n",
              "6     ético      feita  promovido    governo\n",
              "7      ânus        psl    lamenta      disse\n",
              "8   ângulos    governo        psl        rio\n",
              "9    ângelo      pasta  cidadania    justiça\n",
              "10   áudios      disse   ministro      chefe"
            ]
          },
          "metadata": {
            "tags": []
          },
          "execution_count": 139
        }
      ]
    },
    {
      "cell_type": "markdown",
      "metadata": {
        "colab_type": "text",
        "id": "geov5XOj4we5"
      },
      "source": [
        "1.1 Top-10 palavras associadas a  'empresa'\n"
      ]
    },
    {
      "cell_type": "code",
      "metadata": {
        "colab_type": "code",
        "outputId": "7a17ffe5-63bc-42d9-b324-3e72010074a1",
        "id": "iFwlDiCI4we-",
        "colab": {
          "base_uri": "https://localhost:8080/",
          "height": 359
        }
      },
      "source": [
        "table_5"
      ],
      "execution_count": 140,
      "outputs": [
        {
          "output_type": "execute_result",
          "data": {
            "text/html": [
              "<div>\n",
              "<style scoped>\n",
              "    .dataframe tbody tr th:only-of-type {\n",
              "        vertical-align: middle;\n",
              "    }\n",
              "\n",
              "    .dataframe tbody tr th {\n",
              "        vertical-align: top;\n",
              "    }\n",
              "\n",
              "    .dataframe thead th {\n",
              "        text-align: right;\n",
              "    }\n",
              "</style>\n",
              "<table border=\"1\" class=\"dataframe\">\n",
              "  <thead>\n",
              "    <tr style=\"text-align: right;\">\n",
              "      <th></th>\n",
              "      <th>MIM</th>\n",
              "      <th>EMIM</th>\n",
              "      <th>X²</th>\n",
              "      <th>Dice</th>\n",
              "    </tr>\n",
              "  </thead>\n",
              "  <tbody>\n",
              "    <tr>\n",
              "      <th>1</th>\n",
              "      <td>ósseas</td>\n",
              "      <td>reais</td>\n",
              "      <td>reais</td>\n",
              "      <td>reais</td>\n",
              "    </tr>\n",
              "    <tr>\n",
              "      <th>2</th>\n",
              "      <td>óbitos</td>\n",
              "      <td>empresas</td>\n",
              "      <td>bilhão</td>\n",
              "      <td>empresas</td>\n",
              "    </tr>\n",
              "    <tr>\n",
              "      <th>3</th>\n",
              "      <td>ídolos</td>\n",
              "      <td>milhões</td>\n",
              "      <td>acionistas</td>\n",
              "      <td>milhões</td>\n",
              "    </tr>\n",
              "    <tr>\n",
              "      <th>4</th>\n",
              "      <td>épocas</td>\n",
              "      <td>bilhões</td>\n",
              "      <td>bilhões</td>\n",
              "      <td>bilhões</td>\n",
              "    </tr>\n",
              "    <tr>\n",
              "      <th>5</th>\n",
              "      <td>átomo</td>\n",
              "      <td>dólares</td>\n",
              "      <td>empresas</td>\n",
              "      <td>valor</td>\n",
              "    </tr>\n",
              "    <tr>\n",
              "      <th>6</th>\n",
              "      <td>áthila</td>\n",
              "      <td>valor</td>\n",
              "      <td>dólares</td>\n",
              "      <td>dólares</td>\n",
              "    </tr>\n",
              "    <tr>\n",
              "      <th>7</th>\n",
              "      <td>árbitros</td>\n",
              "      <td>cerca</td>\n",
              "      <td>fabricação</td>\n",
              "      <td>cerca</td>\n",
              "    </tr>\n",
              "    <tr>\n",
              "      <th>8</th>\n",
              "      <td>ágio</td>\n",
              "      <td>mercado</td>\n",
              "      <td>fabricante</td>\n",
              "      <td>mercado</td>\n",
              "    </tr>\n",
              "    <tr>\n",
              "      <th>9</th>\n",
              "      <td>ábaton</td>\n",
              "      <td>bilhão</td>\n",
              "      <td>tornando</td>\n",
              "      <td>além</td>\n",
              "    </tr>\n",
              "    <tr>\n",
              "      <th>10</th>\n",
              "      <td>zonzo</td>\n",
              "      <td>acionistas</td>\n",
              "      <td>obteve</td>\n",
              "      <td>seis</td>\n",
              "    </tr>\n",
              "  </tbody>\n",
              "</table>\n",
              "</div>"
            ],
            "text/plain": [
              "         MIM        EMIM          X²      Dice\n",
              "1     ósseas       reais       reais     reais\n",
              "2     óbitos    empresas      bilhão  empresas\n",
              "3     ídolos     milhões  acionistas   milhões\n",
              "4     épocas     bilhões     bilhões   bilhões\n",
              "5      átomo     dólares    empresas     valor\n",
              "6     áthila       valor     dólares   dólares\n",
              "7   árbitros       cerca  fabricação     cerca\n",
              "8       ágio     mercado  fabricante   mercado\n",
              "9     ábaton      bilhão    tornando      além\n",
              "10     zonzo  acionistas      obteve      seis"
            ]
          },
          "metadata": {
            "tags": []
          },
          "execution_count": 140
        }
      ]
    },
    {
      "cell_type": "markdown",
      "metadata": {
        "id": "m-L0vR5L5JIy",
        "colab_type": "text"
      },
      "source": [
        "Em geral, o Dice parece ser a melhor escolha, pois seus resultados estão mais próximos em termos de semântica aos termos originais (os resultados são mais coerentes)"
      ]
    },
    {
      "cell_type": "markdown",
      "metadata": {
        "id": "Rm4KEj9G5TnV",
        "colab_type": "text"
      },
      "source": [
        "### De acordo com a métrica que deu os melhores resultados na sua opinião, execute agora cada consulta (usando a abordagem documento- ou termo-por-vez) expandido-a com: os top-3, top-5 e top-10 documentos. O que acontece com a precisão dos resultados em cada caso? Aumenta ou diminui? Justifique bem sua resposta."
      ]
    },
    {
      "cell_type": "markdown",
      "metadata": {
        "id": "cHon-D475kmD",
        "colab_type": "text"
      },
      "source": [
        "Algortimo escolhido: Termo-por-vez"
      ]
    },
    {
      "cell_type": "code",
      "metadata": {
        "id": "oYlpqryS5std",
        "colab_type": "code",
        "colab": {}
      },
      "source": [
        "def term_a_time(query, indexes, k):    \n",
        "    a = {} \n",
        "    query_indexes = [] \n",
        "    rank = []\n",
        "    \n",
        "    for word in query.split(\" \"):\n",
        "      if word in indexes.keys():\n",
        "          query_indexes.append(indexes[word])\n",
        "    \n",
        "    for index in query_indexes:\n",
        "      for i in index:\n",
        "          doc = i[0]\n",
        "          if doc not in a.keys():\n",
        "              a[doc] = 0\n",
        "          a[doc] += i[1]\n",
        "    \n",
        "    for (doc, score) in a.items():\n",
        "      heapq.heappush(rank, (score, doc))\n",
        "        \n",
        "    return heapq.nlargest(k, rank)"
      ],
      "execution_count": 0,
      "outputs": []
    },
    {
      "cell_type": "code",
      "metadata": {
        "id": "YkcrbB_w5xLe",
        "colab_type": "code",
        "colab": {}
      },
      "source": [
        "def top_docs(query, k):\n",
        "  \n",
        "  top_docs = [doc for score,doc in term_a_time(query, ranking, k)]\n",
        "  top_docs_ranking = {} \n",
        "  \n",
        "  for word in ranking:\n",
        "    top_docs_ranking[word] = []\n",
        "    for doc_score in ranking[word]:\n",
        "      if doc_score[0] in top_docs:\n",
        "        top_docs_ranking[word].append(doc_score)\n",
        "        \n",
        "  return top_docs_ranking"
      ],
      "execution_count": 0,
      "outputs": []
    },
    {
      "cell_type": "markdown",
      "metadata": {
        "id": "gG4AcdAS54Mf",
        "colab_type": "text"
      },
      "source": [
        "Top-3 Documentos"
      ]
    },
    {
      "cell_type": "code",
      "metadata": {
        "id": "ee7X_bTZ5z7z",
        "colab_type": "code",
        "colab": {}
      },
      "source": [
        "k = 3\n",
        "ranking_docs1 = top_docs(queries[0], k)\n",
        "ranking_docs2 = top_docs(queries[1], k)\n",
        "ranking_docs3 = top_docs(queries[2], k)\n",
        "ranking_docs4 = top_docs(queries[3], k)\n",
        "ranking_docs5 = top_docs(queries[4], k)"
      ],
      "execution_count": 0,
      "outputs": []
    },
    {
      "cell_type": "code",
      "metadata": {
        "id": "Qzh7JEVl6KmC",
        "colab_type": "code",
        "colab": {}
      },
      "source": [
        "table_top1 = create_metrics_table(queries[0], ranking_docs1, k)\n",
        "table_top2 = create_metrics_table(queries[1], ranking_docs2, k)\n",
        "table_top3 = create_metrics_table(queries[2], ranking_docs3, k)\n",
        "table_top4 = create_metrics_table(queries[3], ranking_docs4, k)\n",
        "table_top5 = create_metrics_table(queries[4], ranking_docs5, k)"
      ],
      "execution_count": 0,
      "outputs": []
    },
    {
      "cell_type": "markdown",
      "metadata": {
        "id": "HwObN6XJ6Ze2",
        "colab_type": "text"
      },
      "source": [
        "Top-10 palavras associadas aos Top-3 Documentos de 'política'"
      ]
    },
    {
      "cell_type": "code",
      "metadata": {
        "id": "mhBnFZPA6een",
        "colab_type": "code",
        "colab": {
          "base_uri": "https://localhost:8080/",
          "height": 359
        },
        "outputId": "ad379340-81d9-4071-e598-7a60b2ea39c2"
      },
      "source": [
        "table_dice = pd.DataFrame()\n",
        "table_dice['Dice before Term A Time'] = table_1['Dice']\n",
        "table_dice['Dice after Term A Time'] = table_top1['Dice']\n",
        "table_dice"
      ],
      "execution_count": 145,
      "outputs": [
        {
          "output_type": "execute_result",
          "data": {
            "text/html": [
              "<div>\n",
              "<style scoped>\n",
              "    .dataframe tbody tr th:only-of-type {\n",
              "        vertical-align: middle;\n",
              "    }\n",
              "\n",
              "    .dataframe tbody tr th {\n",
              "        vertical-align: top;\n",
              "    }\n",
              "\n",
              "    .dataframe thead th {\n",
              "        text-align: right;\n",
              "    }\n",
              "</style>\n",
              "<table border=\"1\" class=\"dataframe\">\n",
              "  <thead>\n",
              "    <tr style=\"text-align: right;\">\n",
              "      <th></th>\n",
              "      <th>Dice before Term A Time</th>\n",
              "      <th>Dice after Term A Time</th>\n",
              "    </tr>\n",
              "  </thead>\n",
              "  <tbody>\n",
              "    <tr>\n",
              "      <th>1</th>\n",
              "      <td>país</td>\n",
              "      <td>vez</td>\n",
              "    </tr>\n",
              "    <tr>\n",
              "      <th>2</th>\n",
              "      <td>outros</td>\n",
              "      <td>vamos</td>\n",
              "    </tr>\n",
              "    <tr>\n",
              "      <th>3</th>\n",
              "      <td>vez</td>\n",
              "      <td>tudo</td>\n",
              "    </tr>\n",
              "    <tr>\n",
              "      <th>4</th>\n",
              "      <td>cada</td>\n",
              "      <td>tornou</td>\n",
              "    </tr>\n",
              "    <tr>\n",
              "      <th>5</th>\n",
              "      <td>governo</td>\n",
              "      <td>todos</td>\n",
              "    </tr>\n",
              "    <tr>\n",
              "      <th>6</th>\n",
              "      <td>menos</td>\n",
              "      <td>ter</td>\n",
              "    </tr>\n",
              "    <tr>\n",
              "      <th>7</th>\n",
              "      <td>pode</td>\n",
              "      <td>sobre</td>\n",
              "    </tr>\n",
              "    <tr>\n",
              "      <th>8</th>\n",
              "      <td>desde</td>\n",
              "      <td>ser</td>\n",
              "    </tr>\n",
              "    <tr>\n",
              "      <th>9</th>\n",
              "      <td>parte</td>\n",
              "      <td>segurança</td>\n",
              "    </tr>\n",
              "    <tr>\n",
              "      <th>10</th>\n",
              "      <td>ser</td>\n",
              "      <td>quer</td>\n",
              "    </tr>\n",
              "  </tbody>\n",
              "</table>\n",
              "</div>"
            ],
            "text/plain": [
              "   Dice before Term A Time Dice after Term A Time\n",
              "1                     país                    vez\n",
              "2                   outros                  vamos\n",
              "3                      vez                   tudo\n",
              "4                     cada                 tornou\n",
              "5                  governo                  todos\n",
              "6                    menos                    ter\n",
              "7                     pode                  sobre\n",
              "8                    desde                    ser\n",
              "9                    parte              segurança\n",
              "10                     ser                   quer"
            ]
          },
          "metadata": {
            "tags": []
          },
          "execution_count": 145
        }
      ]
    },
    {
      "cell_type": "markdown",
      "metadata": {
        "colab_type": "text",
        "id": "wADL0IXN6peG"
      },
      "source": [
        "Top-10 palavras associadas aos Top-3 Documentos de 'presidente'"
      ]
    },
    {
      "cell_type": "code",
      "metadata": {
        "colab_type": "code",
        "id": "EGSgP5vf6peN",
        "colab": {
          "base_uri": "https://localhost:8080/",
          "height": 359
        },
        "outputId": "42848c28-5246-4156-bb1c-385515377697"
      },
      "source": [
        "table_dice = pd.DataFrame()\n",
        "table_dice['Dice before Term A Time'] = table_2['Dice']\n",
        "table_dice['Dice after Term A Time'] = table_top2['Dice']\n",
        "table_dice"
      ],
      "execution_count": 146,
      "outputs": [
        {
          "output_type": "execute_result",
          "data": {
            "text/html": [
              "<div>\n",
              "<style scoped>\n",
              "    .dataframe tbody tr th:only-of-type {\n",
              "        vertical-align: middle;\n",
              "    }\n",
              "\n",
              "    .dataframe tbody tr th {\n",
              "        vertical-align: top;\n",
              "    }\n",
              "\n",
              "    .dataframe thead th {\n",
              "        text-align: right;\n",
              "    }\n",
              "</style>\n",
              "<table border=\"1\" class=\"dataframe\">\n",
              "  <thead>\n",
              "    <tr style=\"text-align: right;\">\n",
              "      <th></th>\n",
              "      <th>Dice before Term A Time</th>\n",
              "      <th>Dice after Term A Time</th>\n",
              "    </tr>\n",
              "  </thead>\n",
              "  <tbody>\n",
              "    <tr>\n",
              "      <th>1</th>\n",
              "      <td>feira</td>\n",
              "      <td>vêm</td>\n",
              "    </tr>\n",
              "    <tr>\n",
              "      <th>2</th>\n",
              "      <td>governo</td>\n",
              "      <td>vão</td>\n",
              "    </tr>\n",
              "    <tr>\n",
              "      <th>3</th>\n",
              "      <td>bolsonaro</td>\n",
              "      <td>vive</td>\n",
              "    </tr>\n",
              "    <tr>\n",
              "      <th>4</th>\n",
              "      <td>ainda</td>\n",
              "      <td>violência</td>\n",
              "    </tr>\n",
              "    <tr>\n",
              "      <th>5</th>\n",
              "      <td>sobre</td>\n",
              "      <td>vida</td>\n",
              "    </tr>\n",
              "    <tr>\n",
              "      <th>6</th>\n",
              "      <td>país</td>\n",
              "      <td>vezes</td>\n",
              "    </tr>\n",
              "    <tr>\n",
              "      <th>7</th>\n",
              "      <td>ser</td>\n",
              "      <td>vez</td>\n",
              "    </tr>\n",
              "    <tr>\n",
              "      <th>8</th>\n",
              "      <td>ministro</td>\n",
              "      <td>verdade</td>\n",
              "    </tr>\n",
              "    <tr>\n",
              "      <th>9</th>\n",
              "      <td>ter</td>\n",
              "      <td>tudo</td>\n",
              "    </tr>\n",
              "    <tr>\n",
              "      <th>10</th>\n",
              "      <td>outros</td>\n",
              "      <td>três</td>\n",
              "    </tr>\n",
              "  </tbody>\n",
              "</table>\n",
              "</div>"
            ],
            "text/plain": [
              "   Dice before Term A Time Dice after Term A Time\n",
              "1                    feira                    vêm\n",
              "2                  governo                    vão\n",
              "3                bolsonaro                   vive\n",
              "4                    ainda              violência\n",
              "5                    sobre                   vida\n",
              "6                     país                  vezes\n",
              "7                      ser                    vez\n",
              "8                 ministro                verdade\n",
              "9                      ter                   tudo\n",
              "10                  outros                   três"
            ]
          },
          "metadata": {
            "tags": []
          },
          "execution_count": 146
        }
      ]
    },
    {
      "cell_type": "markdown",
      "metadata": {
        "colab_type": "text",
        "id": "l0B2kf3X6qMe"
      },
      "source": [
        "Top-10 palavras associadas aos Top-3 Documentos de 'educação''\n"
      ]
    },
    {
      "cell_type": "code",
      "metadata": {
        "colab_type": "code",
        "id": "NTG5axgA6qMk",
        "colab": {
          "base_uri": "https://localhost:8080/",
          "height": 359
        },
        "outputId": "0061f5d7-58f6-4f1d-a666-d7a7012411b9"
      },
      "source": [
        "table_dice = pd.DataFrame()\n",
        "table_dice['Dice before Term A Time'] = table_3['Dice']\n",
        "table_dice['Dice after Term A Time'] = table_top3['Dice']\n",
        "table_dice"
      ],
      "execution_count": 147,
      "outputs": [
        {
          "output_type": "execute_result",
          "data": {
            "text/html": [
              "<div>\n",
              "<style scoped>\n",
              "    .dataframe tbody tr th:only-of-type {\n",
              "        vertical-align: middle;\n",
              "    }\n",
              "\n",
              "    .dataframe tbody tr th {\n",
              "        vertical-align: top;\n",
              "    }\n",
              "\n",
              "    .dataframe thead th {\n",
              "        text-align: right;\n",
              "    }\n",
              "</style>\n",
              "<table border=\"1\" class=\"dataframe\">\n",
              "  <thead>\n",
              "    <tr style=\"text-align: right;\">\n",
              "      <th></th>\n",
              "      <th>Dice before Term A Time</th>\n",
              "      <th>Dice after Term A Time</th>\n",
              "    </tr>\n",
              "  </thead>\n",
              "  <tbody>\n",
              "    <tr>\n",
              "      <th>1</th>\n",
              "      <td>alunos</td>\n",
              "      <td>todo</td>\n",
              "    </tr>\n",
              "    <tr>\n",
              "      <th>2</th>\n",
              "      <td>escolas</td>\n",
              "      <td>social</td>\n",
              "    </tr>\n",
              "    <tr>\n",
              "      <th>3</th>\n",
              "      <td>social</td>\n",
              "      <td>ser</td>\n",
              "    </tr>\n",
              "    <tr>\n",
              "      <th>4</th>\n",
              "      <td>mudanças</td>\n",
              "      <td>qualidade</td>\n",
              "    </tr>\n",
              "    <tr>\n",
              "      <th>5</th>\n",
              "      <td>escola</td>\n",
              "      <td>proposta</td>\n",
              "    </tr>\n",
              "    <tr>\n",
              "      <th>6</th>\n",
              "      <td>discurso</td>\n",
              "      <td>projeto</td>\n",
              "    </tr>\n",
              "    <tr>\n",
              "      <th>7</th>\n",
              "      <td>comissão</td>\n",
              "      <td>parece</td>\n",
              "    </tr>\n",
              "    <tr>\n",
              "      <th>8</th>\n",
              "      <td>necessidade</td>\n",
              "      <td>onde</td>\n",
              "    </tr>\n",
              "    <tr>\n",
              "      <th>9</th>\n",
              "      <td>jovens</td>\n",
              "      <td>fazendo</td>\n",
              "    </tr>\n",
              "    <tr>\n",
              "      <th>10</th>\n",
              "      <td>pasta</td>\n",
              "      <td>faz</td>\n",
              "    </tr>\n",
              "  </tbody>\n",
              "</table>\n",
              "</div>"
            ],
            "text/plain": [
              "   Dice before Term A Time Dice after Term A Time\n",
              "1                   alunos                   todo\n",
              "2                  escolas                 social\n",
              "3                   social                    ser\n",
              "4                 mudanças              qualidade\n",
              "5                   escola               proposta\n",
              "6                 discurso                projeto\n",
              "7                 comissão                 parece\n",
              "8              necessidade                   onde\n",
              "9                   jovens                fazendo\n",
              "10                   pasta                    faz"
            ]
          },
          "metadata": {
            "tags": []
          },
          "execution_count": 147
        }
      ]
    },
    {
      "cell_type": "markdown",
      "metadata": {
        "colab_type": "text",
        "id": "7Q0Yli9g6qty"
      },
      "source": [
        "Top-10 palavras associadas aos Top-3 Documentos de 'ministério'"
      ]
    },
    {
      "cell_type": "code",
      "metadata": {
        "colab_type": "code",
        "id": "GqvBdpEe6qt3",
        "colab": {
          "base_uri": "https://localhost:8080/",
          "height": 359
        },
        "outputId": "182c82fa-5aaa-41b0-96bd-be705c08a96b"
      },
      "source": [
        "table_dice = pd.DataFrame()\n",
        "table_dice['Dice before Term A Time'] = table_4['Dice']\n",
        "table_dice['Dice after Term A Time'] = table_top4['Dice']\n",
        "table_dice"
      ],
      "execution_count": 148,
      "outputs": [
        {
          "output_type": "execute_result",
          "data": {
            "text/html": [
              "<div>\n",
              "<style scoped>\n",
              "    .dataframe tbody tr th:only-of-type {\n",
              "        vertical-align: middle;\n",
              "    }\n",
              "\n",
              "    .dataframe tbody tr th {\n",
              "        vertical-align: top;\n",
              "    }\n",
              "\n",
              "    .dataframe thead th {\n",
              "        text-align: right;\n",
              "    }\n",
              "</style>\n",
              "<table border=\"1\" class=\"dataframe\">\n",
              "  <thead>\n",
              "    <tr style=\"text-align: right;\">\n",
              "      <th></th>\n",
              "      <th>Dice before Term A Time</th>\n",
              "      <th>Dice after Term A Time</th>\n",
              "    </tr>\n",
              "  </thead>\n",
              "  <tbody>\n",
              "    <tr>\n",
              "      <th>1</th>\n",
              "      <td>federal</td>\n",
              "      <td>vez</td>\n",
              "    </tr>\n",
              "    <tr>\n",
              "      <th>2</th>\n",
              "      <td>ministro</td>\n",
              "      <td>ter</td>\n",
              "    </tr>\n",
              "    <tr>\n",
              "      <th>3</th>\n",
              "      <td>público</td>\n",
              "      <td>ser</td>\n",
              "    </tr>\n",
              "    <tr>\n",
              "      <th>4</th>\n",
              "      <td>militares</td>\n",
              "      <td>reais</td>\n",
              "    </tr>\n",
              "    <tr>\n",
              "      <th>5</th>\n",
              "      <td>valores</td>\n",
              "      <td>pública</td>\n",
              "    </tr>\n",
              "    <tr>\n",
              "      <th>6</th>\n",
              "      <td>governo</td>\n",
              "      <td>projeto</td>\n",
              "    </tr>\n",
              "    <tr>\n",
              "      <th>7</th>\n",
              "      <td>disse</td>\n",
              "      <td>primeiro</td>\n",
              "    </tr>\n",
              "    <tr>\n",
              "      <th>8</th>\n",
              "      <td>rio</td>\n",
              "      <td>política</td>\n",
              "    </tr>\n",
              "    <tr>\n",
              "      <th>9</th>\n",
              "      <td>justiça</td>\n",
              "      <td>parte</td>\n",
              "    </tr>\n",
              "    <tr>\n",
              "      <th>10</th>\n",
              "      <td>chefe</td>\n",
              "      <td>ministro</td>\n",
              "    </tr>\n",
              "  </tbody>\n",
              "</table>\n",
              "</div>"
            ],
            "text/plain": [
              "   Dice before Term A Time Dice after Term A Time\n",
              "1                  federal                    vez\n",
              "2                 ministro                    ter\n",
              "3                  público                    ser\n",
              "4                militares                  reais\n",
              "5                  valores                pública\n",
              "6                  governo                projeto\n",
              "7                    disse               primeiro\n",
              "8                      rio               política\n",
              "9                  justiça                  parte\n",
              "10                   chefe               ministro"
            ]
          },
          "metadata": {
            "tags": []
          },
          "execution_count": 148
        }
      ]
    },
    {
      "cell_type": "markdown",
      "metadata": {
        "colab_type": "text",
        "id": "z8jNmURj6rvb"
      },
      "source": [
        "Top-10 palavras associadas aos Top-3 Documentos de 'empresa'"
      ]
    },
    {
      "cell_type": "code",
      "metadata": {
        "colab_type": "code",
        "id": "w-v9qPFt6rvh",
        "colab": {
          "base_uri": "https://localhost:8080/",
          "height": 359
        },
        "outputId": "8d94f7ba-8e2a-4585-cc23-6c69ae379c7b"
      },
      "source": [
        "table_dice = pd.DataFrame()\n",
        "table_dice['Dice before Term A Time'] = table_5['Dice']\n",
        "table_dice['Dice after Term A Time'] = table_top5['Dice']\n",
        "table_dice"
      ],
      "execution_count": 149,
      "outputs": [
        {
          "output_type": "execute_result",
          "data": {
            "text/html": [
              "<div>\n",
              "<style scoped>\n",
              "    .dataframe tbody tr th:only-of-type {\n",
              "        vertical-align: middle;\n",
              "    }\n",
              "\n",
              "    .dataframe tbody tr th {\n",
              "        vertical-align: top;\n",
              "    }\n",
              "\n",
              "    .dataframe thead th {\n",
              "        text-align: right;\n",
              "    }\n",
              "</style>\n",
              "<table border=\"1\" class=\"dataframe\">\n",
              "  <thead>\n",
              "    <tr style=\"text-align: right;\">\n",
              "      <th></th>\n",
              "      <th>Dice before Term A Time</th>\n",
              "      <th>Dice after Term A Time</th>\n",
              "    </tr>\n",
              "  </thead>\n",
              "  <tbody>\n",
              "    <tr>\n",
              "      <th>1</th>\n",
              "      <td>reais</td>\n",
              "      <td>sobre</td>\n",
              "    </tr>\n",
              "    <tr>\n",
              "      <th>2</th>\n",
              "      <td>empresas</td>\n",
              "      <td>reais</td>\n",
              "    </tr>\n",
              "    <tr>\n",
              "      <th>3</th>\n",
              "      <td>milhões</td>\n",
              "      <td>nesta</td>\n",
              "    </tr>\n",
              "    <tr>\n",
              "      <th>4</th>\n",
              "      <td>bilhões</td>\n",
              "      <td>maior</td>\n",
              "    </tr>\n",
              "    <tr>\n",
              "      <th>5</th>\n",
              "      <td>valor</td>\n",
              "      <td>feira</td>\n",
              "    </tr>\n",
              "    <tr>\n",
              "      <th>6</th>\n",
              "      <td>dólares</td>\n",
              "      <td>dólares</td>\n",
              "    </tr>\n",
              "    <tr>\n",
              "      <th>7</th>\n",
              "      <td>cerca</td>\n",
              "      <td>dois</td>\n",
              "    </tr>\n",
              "    <tr>\n",
              "      <th>8</th>\n",
              "      <td>mercado</td>\n",
              "      <td>desde</td>\n",
              "    </tr>\n",
              "    <tr>\n",
              "      <th>9</th>\n",
              "      <td>além</td>\n",
              "      <td>custo</td>\n",
              "    </tr>\n",
              "    <tr>\n",
              "      <th>10</th>\n",
              "      <td>seis</td>\n",
              "      <td>cerca</td>\n",
              "    </tr>\n",
              "  </tbody>\n",
              "</table>\n",
              "</div>"
            ],
            "text/plain": [
              "   Dice before Term A Time Dice after Term A Time\n",
              "1                    reais                  sobre\n",
              "2                 empresas                  reais\n",
              "3                  milhões                  nesta\n",
              "4                  bilhões                  maior\n",
              "5                    valor                  feira\n",
              "6                  dólares                dólares\n",
              "7                    cerca                   dois\n",
              "8                  mercado                  desde\n",
              "9                     além                  custo\n",
              "10                    seis                  cerca"
            ]
          },
          "metadata": {
            "tags": []
          },
          "execution_count": 149
        }
      ]
    },
    {
      "cell_type": "markdown",
      "metadata": {
        "id": "mQicWTkp-K_0",
        "colab_type": "text"
      },
      "source": [
        "Top-5 Documentos"
      ]
    },
    {
      "cell_type": "code",
      "metadata": {
        "id": "rY6RQgaE9K66",
        "colab_type": "code",
        "colab": {}
      },
      "source": [
        "k = 5\n",
        "ranking_docs1 = top_docs(queries[0], k)\n",
        "ranking_docs2 = top_docs(queries[1], k)\n",
        "ranking_docs3 = top_docs(queries[2], k)\n",
        "ranking_docs4 = top_docs(queries[3], k)\n",
        "ranking_docs5 = top_docs(queries[4], k)"
      ],
      "execution_count": 0,
      "outputs": []
    },
    {
      "cell_type": "code",
      "metadata": {
        "id": "OSY4IpcD9ORu",
        "colab_type": "code",
        "colab": {}
      },
      "source": [
        "\n",
        "table_top1 = create_metrics_table(queries[0], ranking_docs1, k)\n",
        "table_top2 = create_metrics_table(queries[1], ranking_docs2, k)\n",
        "table_top3 = create_metrics_table(queries[2], ranking_docs3, k)\n",
        "table_top4 = create_metrics_table(queries[3], ranking_docs4, k)\n",
        "table_top5 = create_metrics_table(queries[4], ranking_docs5, k)"
      ],
      "execution_count": 0,
      "outputs": []
    },
    {
      "cell_type": "markdown",
      "metadata": {
        "id": "b3t49Bzc9QbT",
        "colab_type": "text"
      },
      "source": [
        "Top-10 palavras associadas aos Top-5 Documentos de 'política'"
      ]
    },
    {
      "cell_type": "code",
      "metadata": {
        "id": "7LO4-60C9V6g",
        "colab_type": "code",
        "colab": {
          "base_uri": "https://localhost:8080/",
          "height": 359
        },
        "outputId": "e22d3952-5180-4f6b-8774-3e42565a7a18"
      },
      "source": [
        "table_dice = pd.DataFrame()\n",
        "table_dice['Dice before Term A Time'] = table_1['Dice']\n",
        "table_dice['Dice after Term A Time'] = table_top1['Dice']\n",
        "table_dice"
      ],
      "execution_count": 152,
      "outputs": [
        {
          "output_type": "execute_result",
          "data": {
            "text/html": [
              "<div>\n",
              "<style scoped>\n",
              "    .dataframe tbody tr th:only-of-type {\n",
              "        vertical-align: middle;\n",
              "    }\n",
              "\n",
              "    .dataframe tbody tr th {\n",
              "        vertical-align: top;\n",
              "    }\n",
              "\n",
              "    .dataframe thead th {\n",
              "        text-align: right;\n",
              "    }\n",
              "</style>\n",
              "<table border=\"1\" class=\"dataframe\">\n",
              "  <thead>\n",
              "    <tr style=\"text-align: right;\">\n",
              "      <th></th>\n",
              "      <th>Dice before Term A Time</th>\n",
              "      <th>Dice after Term A Time</th>\n",
              "    </tr>\n",
              "  </thead>\n",
              "  <tbody>\n",
              "    <tr>\n",
              "      <th>1</th>\n",
              "      <td>país</td>\n",
              "      <td>todos</td>\n",
              "    </tr>\n",
              "    <tr>\n",
              "      <th>2</th>\n",
              "      <td>outros</td>\n",
              "      <td>sobre</td>\n",
              "    </tr>\n",
              "    <tr>\n",
              "      <th>3</th>\n",
              "      <td>vez</td>\n",
              "      <td>ser</td>\n",
              "    </tr>\n",
              "    <tr>\n",
              "      <th>4</th>\n",
              "      <td>cada</td>\n",
              "      <td>quatro</td>\n",
              "    </tr>\n",
              "    <tr>\n",
              "      <th>5</th>\n",
              "      <td>governo</td>\n",
              "      <td>presidente</td>\n",
              "    </tr>\n",
              "    <tr>\n",
              "      <th>6</th>\n",
              "      <td>menos</td>\n",
              "      <td>país</td>\n",
              "    </tr>\n",
              "    <tr>\n",
              "      <th>7</th>\n",
              "      <td>pode</td>\n",
              "      <td>outros</td>\n",
              "    </tr>\n",
              "    <tr>\n",
              "      <th>8</th>\n",
              "      <td>desde</td>\n",
              "      <td>outro</td>\n",
              "    </tr>\n",
              "    <tr>\n",
              "      <th>9</th>\n",
              "      <td>parte</td>\n",
              "      <td>oposição</td>\n",
              "    </tr>\n",
              "    <tr>\n",
              "      <th>10</th>\n",
              "      <td>ser</td>\n",
              "      <td>ministro</td>\n",
              "    </tr>\n",
              "  </tbody>\n",
              "</table>\n",
              "</div>"
            ],
            "text/plain": [
              "   Dice before Term A Time Dice after Term A Time\n",
              "1                     país                  todos\n",
              "2                   outros                  sobre\n",
              "3                      vez                    ser\n",
              "4                     cada                 quatro\n",
              "5                  governo             presidente\n",
              "6                    menos                   país\n",
              "7                     pode                 outros\n",
              "8                    desde                  outro\n",
              "9                    parte               oposição\n",
              "10                     ser               ministro"
            ]
          },
          "metadata": {
            "tags": []
          },
          "execution_count": 152
        }
      ]
    },
    {
      "cell_type": "markdown",
      "metadata": {
        "colab_type": "text",
        "id": "gF405CKfAB7h"
      },
      "source": [
        "Top-10 palavras associadas aos Top-5 Documentos de 'presidente'"
      ]
    },
    {
      "cell_type": "code",
      "metadata": {
        "colab_type": "code",
        "outputId": "08d83bad-fcf6-407e-e4dc-178ea6d6f0a4",
        "id": "f9qWtcgUAB7v",
        "colab": {
          "base_uri": "https://localhost:8080/",
          "height": 359
        }
      },
      "source": [
        "table_dice = pd.DataFrame()\n",
        "table_dice['Dice before Term A Time'] = table_2['Dice']\n",
        "table_dice['Dice after Term A Time'] = table_top2['Dice']\n",
        "table_dice"
      ],
      "execution_count": 153,
      "outputs": [
        {
          "output_type": "execute_result",
          "data": {
            "text/html": [
              "<div>\n",
              "<style scoped>\n",
              "    .dataframe tbody tr th:only-of-type {\n",
              "        vertical-align: middle;\n",
              "    }\n",
              "\n",
              "    .dataframe tbody tr th {\n",
              "        vertical-align: top;\n",
              "    }\n",
              "\n",
              "    .dataframe thead th {\n",
              "        text-align: right;\n",
              "    }\n",
              "</style>\n",
              "<table border=\"1\" class=\"dataframe\">\n",
              "  <thead>\n",
              "    <tr style=\"text-align: right;\">\n",
              "      <th></th>\n",
              "      <th>Dice before Term A Time</th>\n",
              "      <th>Dice after Term A Time</th>\n",
              "    </tr>\n",
              "  </thead>\n",
              "  <tbody>\n",
              "    <tr>\n",
              "      <th>1</th>\n",
              "      <td>feira</td>\n",
              "      <td>vão</td>\n",
              "    </tr>\n",
              "    <tr>\n",
              "      <th>2</th>\n",
              "      <td>governo</td>\n",
              "      <td>vezes</td>\n",
              "    </tr>\n",
              "    <tr>\n",
              "      <th>3</th>\n",
              "      <td>bolsonaro</td>\n",
              "      <td>verdade</td>\n",
              "    </tr>\n",
              "    <tr>\n",
              "      <th>4</th>\n",
              "      <td>ainda</td>\n",
              "      <td>ter</td>\n",
              "    </tr>\n",
              "    <tr>\n",
              "      <th>5</th>\n",
              "      <td>sobre</td>\n",
              "      <td>sobre</td>\n",
              "    </tr>\n",
              "    <tr>\n",
              "      <th>6</th>\n",
              "      <td>país</td>\n",
              "      <td>sido</td>\n",
              "    </tr>\n",
              "    <tr>\n",
              "      <th>7</th>\n",
              "      <td>ser</td>\n",
              "      <td>ser</td>\n",
              "    </tr>\n",
              "    <tr>\n",
              "      <th>8</th>\n",
              "      <td>ministro</td>\n",
              "      <td>quase</td>\n",
              "    </tr>\n",
              "    <tr>\n",
              "      <th>9</th>\n",
              "      <td>ter</td>\n",
              "      <td>pode</td>\n",
              "    </tr>\n",
              "    <tr>\n",
              "      <th>10</th>\n",
              "      <td>outros</td>\n",
              "      <td>pessoas</td>\n",
              "    </tr>\n",
              "  </tbody>\n",
              "</table>\n",
              "</div>"
            ],
            "text/plain": [
              "   Dice before Term A Time Dice after Term A Time\n",
              "1                    feira                    vão\n",
              "2                  governo                  vezes\n",
              "3                bolsonaro                verdade\n",
              "4                    ainda                    ter\n",
              "5                    sobre                  sobre\n",
              "6                     país                   sido\n",
              "7                      ser                    ser\n",
              "8                 ministro                  quase\n",
              "9                      ter                   pode\n",
              "10                  outros                pessoas"
            ]
          },
          "metadata": {
            "tags": []
          },
          "execution_count": 153
        }
      ]
    },
    {
      "cell_type": "markdown",
      "metadata": {
        "colab_type": "text",
        "id": "-fJI1JIRACpp"
      },
      "source": [
        "Top-10 palavras associadas aos Top-5 Documentos de 'educação'"
      ]
    },
    {
      "cell_type": "code",
      "metadata": {
        "colab_type": "code",
        "outputId": "153b2b18-d197-4dcd-d563-efd3dabf217b",
        "id": "_OJe0OhmACpw",
        "colab": {
          "base_uri": "https://localhost:8080/",
          "height": 359
        }
      },
      "source": [
        "table_dice = pd.DataFrame()\n",
        "table_dice['Dice before Term A Time'] = table_3['Dice']\n",
        "table_dice['Dice after Term A Time'] = table_top3['Dice']\n",
        "table_dice"
      ],
      "execution_count": 154,
      "outputs": [
        {
          "output_type": "execute_result",
          "data": {
            "text/html": [
              "<div>\n",
              "<style scoped>\n",
              "    .dataframe tbody tr th:only-of-type {\n",
              "        vertical-align: middle;\n",
              "    }\n",
              "\n",
              "    .dataframe tbody tr th {\n",
              "        vertical-align: top;\n",
              "    }\n",
              "\n",
              "    .dataframe thead th {\n",
              "        text-align: right;\n",
              "    }\n",
              "</style>\n",
              "<table border=\"1\" class=\"dataframe\">\n",
              "  <thead>\n",
              "    <tr style=\"text-align: right;\">\n",
              "      <th></th>\n",
              "      <th>Dice before Term A Time</th>\n",
              "      <th>Dice after Term A Time</th>\n",
              "    </tr>\n",
              "  </thead>\n",
              "  <tbody>\n",
              "    <tr>\n",
              "      <th>1</th>\n",
              "      <td>alunos</td>\n",
              "      <td>ser</td>\n",
              "    </tr>\n",
              "    <tr>\n",
              "      <th>2</th>\n",
              "      <td>escolas</td>\n",
              "      <td>qualidade</td>\n",
              "    </tr>\n",
              "    <tr>\n",
              "      <th>3</th>\n",
              "      <td>social</td>\n",
              "      <td>onde</td>\n",
              "    </tr>\n",
              "    <tr>\n",
              "      <th>4</th>\n",
              "      <td>mudanças</td>\n",
              "      <td>todo</td>\n",
              "    </tr>\n",
              "    <tr>\n",
              "      <th>5</th>\n",
              "      <td>escola</td>\n",
              "      <td>ter</td>\n",
              "    </tr>\n",
              "    <tr>\n",
              "      <th>6</th>\n",
              "      <td>discurso</td>\n",
              "      <td>social</td>\n",
              "    </tr>\n",
              "    <tr>\n",
              "      <th>7</th>\n",
              "      <td>comissão</td>\n",
              "      <td>sobre</td>\n",
              "    </tr>\n",
              "    <tr>\n",
              "      <th>8</th>\n",
              "      <td>necessidade</td>\n",
              "      <td>segundo</td>\n",
              "    </tr>\n",
              "    <tr>\n",
              "      <th>9</th>\n",
              "      <td>jovens</td>\n",
              "      <td>pessoas</td>\n",
              "    </tr>\n",
              "    <tr>\n",
              "      <th>10</th>\n",
              "      <td>pasta</td>\n",
              "      <td>parece</td>\n",
              "    </tr>\n",
              "  </tbody>\n",
              "</table>\n",
              "</div>"
            ],
            "text/plain": [
              "   Dice before Term A Time Dice after Term A Time\n",
              "1                   alunos                    ser\n",
              "2                  escolas              qualidade\n",
              "3                   social                   onde\n",
              "4                 mudanças                   todo\n",
              "5                   escola                    ter\n",
              "6                 discurso                 social\n",
              "7                 comissão                  sobre\n",
              "8              necessidade                segundo\n",
              "9                   jovens                pessoas\n",
              "10                   pasta                 parece"
            ]
          },
          "metadata": {
            "tags": []
          },
          "execution_count": 154
        }
      ]
    },
    {
      "cell_type": "markdown",
      "metadata": {
        "colab_type": "text",
        "id": "5fVhvckGADO0"
      },
      "source": [
        "Top-10 palavras associadas aos Top-5 Documentos de 'ministério'"
      ]
    },
    {
      "cell_type": "code",
      "metadata": {
        "colab_type": "code",
        "outputId": "a44cd5b8-a0ec-4e0f-f6c3-4977e238657f",
        "id": "94anC31PADO5",
        "colab": {
          "base_uri": "https://localhost:8080/",
          "height": 359
        }
      },
      "source": [
        "table_dice = pd.DataFrame()\n",
        "table_dice['Dice before Term A Time'] = table_4['Dice']\n",
        "table_dice['Dice after Term A Time'] = table_top4['Dice']\n",
        "table_dice"
      ],
      "execution_count": 155,
      "outputs": [
        {
          "output_type": "execute_result",
          "data": {
            "text/html": [
              "<div>\n",
              "<style scoped>\n",
              "    .dataframe tbody tr th:only-of-type {\n",
              "        vertical-align: middle;\n",
              "    }\n",
              "\n",
              "    .dataframe tbody tr th {\n",
              "        vertical-align: top;\n",
              "    }\n",
              "\n",
              "    .dataframe thead th {\n",
              "        text-align: right;\n",
              "    }\n",
              "</style>\n",
              "<table border=\"1\" class=\"dataframe\">\n",
              "  <thead>\n",
              "    <tr style=\"text-align: right;\">\n",
              "      <th></th>\n",
              "      <th>Dice before Term A Time</th>\n",
              "      <th>Dice after Term A Time</th>\n",
              "    </tr>\n",
              "  </thead>\n",
              "  <tbody>\n",
              "    <tr>\n",
              "      <th>1</th>\n",
              "      <td>federal</td>\n",
              "      <td>desde</td>\n",
              "    </tr>\n",
              "    <tr>\n",
              "      <th>2</th>\n",
              "      <td>ministro</td>\n",
              "      <td>ter</td>\n",
              "    </tr>\n",
              "    <tr>\n",
              "      <th>3</th>\n",
              "      <td>público</td>\n",
              "      <td>social</td>\n",
              "    </tr>\n",
              "    <tr>\n",
              "      <th>4</th>\n",
              "      <td>militares</td>\n",
              "      <td>ser</td>\n",
              "    </tr>\n",
              "    <tr>\n",
              "      <th>5</th>\n",
              "      <td>valores</td>\n",
              "      <td>semana</td>\n",
              "    </tr>\n",
              "    <tr>\n",
              "      <th>6</th>\n",
              "      <td>governo</td>\n",
              "      <td>segundo</td>\n",
              "    </tr>\n",
              "    <tr>\n",
              "      <th>7</th>\n",
              "      <td>disse</td>\n",
              "      <td>país</td>\n",
              "    </tr>\n",
              "    <tr>\n",
              "      <th>8</th>\n",
              "      <td>rio</td>\n",
              "      <td>pasta</td>\n",
              "    </tr>\n",
              "    <tr>\n",
              "      <th>9</th>\n",
              "      <td>justiça</td>\n",
              "      <td>parte</td>\n",
              "    </tr>\n",
              "    <tr>\n",
              "      <th>10</th>\n",
              "      <td>chefe</td>\n",
              "      <td>médio</td>\n",
              "    </tr>\n",
              "  </tbody>\n",
              "</table>\n",
              "</div>"
            ],
            "text/plain": [
              "   Dice before Term A Time Dice after Term A Time\n",
              "1                  federal                  desde\n",
              "2                 ministro                    ter\n",
              "3                  público                 social\n",
              "4                militares                    ser\n",
              "5                  valores                 semana\n",
              "6                  governo                segundo\n",
              "7                    disse                   país\n",
              "8                      rio                  pasta\n",
              "9                  justiça                  parte\n",
              "10                   chefe                  médio"
            ]
          },
          "metadata": {
            "tags": []
          },
          "execution_count": 155
        }
      ]
    },
    {
      "cell_type": "markdown",
      "metadata": {
        "colab_type": "text",
        "id": "k6EPuhsNADsR"
      },
      "source": [
        "Top-10 palavras associadas aos Top-5 Documentos de 'empresa'"
      ]
    },
    {
      "cell_type": "code",
      "metadata": {
        "colab_type": "code",
        "outputId": "db81eb0d-2264-4a08-9a39-c368c3e1f76d",
        "id": "Zr9T7e8lADsa",
        "colab": {
          "base_uri": "https://localhost:8080/",
          "height": 359
        }
      },
      "source": [
        "table_dice = pd.DataFrame()\n",
        "table_dice['Dice before Term A Time'] = table_5['Dice']\n",
        "table_dice['Dice after Term A Time'] = table_top5['Dice']\n",
        "table_dice"
      ],
      "execution_count": 156,
      "outputs": [
        {
          "output_type": "execute_result",
          "data": {
            "text/html": [
              "<div>\n",
              "<style scoped>\n",
              "    .dataframe tbody tr th:only-of-type {\n",
              "        vertical-align: middle;\n",
              "    }\n",
              "\n",
              "    .dataframe tbody tr th {\n",
              "        vertical-align: top;\n",
              "    }\n",
              "\n",
              "    .dataframe thead th {\n",
              "        text-align: right;\n",
              "    }\n",
              "</style>\n",
              "<table border=\"1\" class=\"dataframe\">\n",
              "  <thead>\n",
              "    <tr style=\"text-align: right;\">\n",
              "      <th></th>\n",
              "      <th>Dice before Term A Time</th>\n",
              "      <th>Dice after Term A Time</th>\n",
              "    </tr>\n",
              "  </thead>\n",
              "  <tbody>\n",
              "    <tr>\n",
              "      <th>1</th>\n",
              "      <td>reais</td>\n",
              "      <td>nesta</td>\n",
              "    </tr>\n",
              "    <tr>\n",
              "      <th>2</th>\n",
              "      <td>empresas</td>\n",
              "      <td>dólares</td>\n",
              "    </tr>\n",
              "    <tr>\n",
              "      <th>3</th>\n",
              "      <td>milhões</td>\n",
              "      <td>ações</td>\n",
              "    </tr>\n",
              "    <tr>\n",
              "      <th>4</th>\n",
              "      <td>bilhões</td>\n",
              "      <td>últimos</td>\n",
              "    </tr>\n",
              "    <tr>\n",
              "      <th>5</th>\n",
              "      <td>valor</td>\n",
              "      <td>valor</td>\n",
              "    </tr>\n",
              "    <tr>\n",
              "      <th>6</th>\n",
              "      <td>dólares</td>\n",
              "      <td>total</td>\n",
              "    </tr>\n",
              "    <tr>\n",
              "      <th>7</th>\n",
              "      <td>cerca</td>\n",
              "      <td>sobre</td>\n",
              "    </tr>\n",
              "    <tr>\n",
              "      <th>8</th>\n",
              "      <td>mercado</td>\n",
              "      <td>segurança</td>\n",
              "    </tr>\n",
              "    <tr>\n",
              "      <th>9</th>\n",
              "      <td>além</td>\n",
              "      <td>segundo</td>\n",
              "    </tr>\n",
              "    <tr>\n",
              "      <th>10</th>\n",
              "      <td>seis</td>\n",
              "      <td>reais</td>\n",
              "    </tr>\n",
              "  </tbody>\n",
              "</table>\n",
              "</div>"
            ],
            "text/plain": [
              "   Dice before Term A Time Dice after Term A Time\n",
              "1                    reais                  nesta\n",
              "2                 empresas                dólares\n",
              "3                  milhões                  ações\n",
              "4                  bilhões                últimos\n",
              "5                    valor                  valor\n",
              "6                  dólares                  total\n",
              "7                    cerca                  sobre\n",
              "8                  mercado              segurança\n",
              "9                     além                segundo\n",
              "10                    seis                  reais"
            ]
          },
          "metadata": {
            "tags": []
          },
          "execution_count": 156
        }
      ]
    },
    {
      "cell_type": "markdown",
      "metadata": {
        "colab_type": "text",
        "id": "lmCk6f7hAnrh"
      },
      "source": [
        "Top-10 Documentos"
      ]
    },
    {
      "cell_type": "code",
      "metadata": {
        "colab_type": "code",
        "id": "TMSBfP5UAnrk",
        "colab": {}
      },
      "source": [
        "k = 10\n",
        "ranking_docs1 = top_docs(queries[0], k)\n",
        "ranking_docs2 = top_docs(queries[1], k)\n",
        "ranking_docs3 = top_docs(queries[2], k)\n",
        "ranking_docs4 = top_docs(queries[3], k)\n",
        "ranking_docs5 = top_docs(queries[4], k)"
      ],
      "execution_count": 0,
      "outputs": []
    },
    {
      "cell_type": "code",
      "metadata": {
        "colab_type": "code",
        "id": "Jr3kNgn2Anrw",
        "colab": {}
      },
      "source": [
        "\n",
        "table_top1 = create_metrics_table(queries[0], ranking_docs1, k)\n",
        "table_top2 = create_metrics_table(queries[1], ranking_docs2, k)\n",
        "table_top3 = create_metrics_table(queries[2], ranking_docs3, k)\n",
        "table_top4 = create_metrics_table(queries[3], ranking_docs4, k)\n",
        "table_top5 = create_metrics_table(queries[4], ranking_docs5, k)"
      ],
      "execution_count": 0,
      "outputs": []
    },
    {
      "cell_type": "markdown",
      "metadata": {
        "colab_type": "text",
        "id": "88hz7QIbAnr4"
      },
      "source": [
        "Top-10 palavras associadas aos Top-10 Documentos de 'política'"
      ]
    },
    {
      "cell_type": "code",
      "metadata": {
        "colab_type": "code",
        "outputId": "a19e0e9d-fc57-4081-ff53-983017d47390",
        "id": "QmZt5-wUAnr6",
        "colab": {
          "base_uri": "https://localhost:8080/",
          "height": 359
        }
      },
      "source": [
        "table_dice = pd.DataFrame()\n",
        "table_dice['Dice before Term A Time'] = table_1['Dice']\n",
        "table_dice['Dice after Term A Time'] = table_top1['Dice']\n",
        "table_dice"
      ],
      "execution_count": 159,
      "outputs": [
        {
          "output_type": "execute_result",
          "data": {
            "text/html": [
              "<div>\n",
              "<style scoped>\n",
              "    .dataframe tbody tr th:only-of-type {\n",
              "        vertical-align: middle;\n",
              "    }\n",
              "\n",
              "    .dataframe tbody tr th {\n",
              "        vertical-align: top;\n",
              "    }\n",
              "\n",
              "    .dataframe thead th {\n",
              "        text-align: right;\n",
              "    }\n",
              "</style>\n",
              "<table border=\"1\" class=\"dataframe\">\n",
              "  <thead>\n",
              "    <tr style=\"text-align: right;\">\n",
              "      <th></th>\n",
              "      <th>Dice before Term A Time</th>\n",
              "      <th>Dice after Term A Time</th>\n",
              "    </tr>\n",
              "  </thead>\n",
              "  <tbody>\n",
              "    <tr>\n",
              "      <th>1</th>\n",
              "      <td>país</td>\n",
              "      <td>país</td>\n",
              "    </tr>\n",
              "    <tr>\n",
              "      <th>2</th>\n",
              "      <td>outros</td>\n",
              "      <td>sobre</td>\n",
              "    </tr>\n",
              "    <tr>\n",
              "      <th>3</th>\n",
              "      <td>vez</td>\n",
              "      <td>ser</td>\n",
              "    </tr>\n",
              "    <tr>\n",
              "      <th>4</th>\n",
              "      <td>cada</td>\n",
              "      <td>quatro</td>\n",
              "    </tr>\n",
              "    <tr>\n",
              "      <th>5</th>\n",
              "      <td>governo</td>\n",
              "      <td>pessoas</td>\n",
              "    </tr>\n",
              "    <tr>\n",
              "      <th>6</th>\n",
              "      <td>menos</td>\n",
              "      <td>menos</td>\n",
              "    </tr>\n",
              "    <tr>\n",
              "      <th>7</th>\n",
              "      <td>pode</td>\n",
              "      <td>maior</td>\n",
              "    </tr>\n",
              "    <tr>\n",
              "      <th>8</th>\n",
              "      <td>desde</td>\n",
              "      <td>ainda</td>\n",
              "    </tr>\n",
              "    <tr>\n",
              "      <th>9</th>\n",
              "      <td>parte</td>\n",
              "      <td>agora</td>\n",
              "    </tr>\n",
              "    <tr>\n",
              "      <th>10</th>\n",
              "      <td>ser</td>\n",
              "      <td>todos</td>\n",
              "    </tr>\n",
              "  </tbody>\n",
              "</table>\n",
              "</div>"
            ],
            "text/plain": [
              "   Dice before Term A Time Dice after Term A Time\n",
              "1                     país                   país\n",
              "2                   outros                  sobre\n",
              "3                      vez                    ser\n",
              "4                     cada                 quatro\n",
              "5                  governo                pessoas\n",
              "6                    menos                  menos\n",
              "7                     pode                  maior\n",
              "8                    desde                  ainda\n",
              "9                    parte                  agora\n",
              "10                     ser                  todos"
            ]
          },
          "metadata": {
            "tags": []
          },
          "execution_count": 159
        }
      ]
    },
    {
      "cell_type": "markdown",
      "metadata": {
        "colab_type": "text",
        "id": "BogfNeQIAnsB"
      },
      "source": [
        "Top-10 palavras associadas aos Top-10 Documentos de 'presidente'"
      ]
    },
    {
      "cell_type": "code",
      "metadata": {
        "colab_type": "code",
        "outputId": "670377e6-8fe5-449c-9b7b-67f786bc8523",
        "id": "USgUt9f1AnsC",
        "colab": {
          "base_uri": "https://localhost:8080/",
          "height": 359
        }
      },
      "source": [
        "table_dice = pd.DataFrame()\n",
        "table_dice['Dice before Term A Time'] = table_2['Dice']\n",
        "table_dice['Dice after Term A Time'] = table_top2['Dice']\n",
        "table_dice"
      ],
      "execution_count": 160,
      "outputs": [
        {
          "output_type": "execute_result",
          "data": {
            "text/html": [
              "<div>\n",
              "<style scoped>\n",
              "    .dataframe tbody tr th:only-of-type {\n",
              "        vertical-align: middle;\n",
              "    }\n",
              "\n",
              "    .dataframe tbody tr th {\n",
              "        vertical-align: top;\n",
              "    }\n",
              "\n",
              "    .dataframe thead th {\n",
              "        text-align: right;\n",
              "    }\n",
              "</style>\n",
              "<table border=\"1\" class=\"dataframe\">\n",
              "  <thead>\n",
              "    <tr style=\"text-align: right;\">\n",
              "      <th></th>\n",
              "      <th>Dice before Term A Time</th>\n",
              "      <th>Dice after Term A Time</th>\n",
              "    </tr>\n",
              "  </thead>\n",
              "  <tbody>\n",
              "    <tr>\n",
              "      <th>1</th>\n",
              "      <td>feira</td>\n",
              "      <td>vezes</td>\n",
              "    </tr>\n",
              "    <tr>\n",
              "      <th>2</th>\n",
              "      <td>governo</td>\n",
              "      <td>sobre</td>\n",
              "    </tr>\n",
              "    <tr>\n",
              "      <th>3</th>\n",
              "      <td>bolsonaro</td>\n",
              "      <td>ser</td>\n",
              "    </tr>\n",
              "    <tr>\n",
              "      <th>4</th>\n",
              "      <td>ainda</td>\n",
              "      <td>contra</td>\n",
              "    </tr>\n",
              "    <tr>\n",
              "      <th>5</th>\n",
              "      <td>sobre</td>\n",
              "      <td>anos</td>\n",
              "    </tr>\n",
              "    <tr>\n",
              "      <th>6</th>\n",
              "      <td>país</td>\n",
              "      <td>ter</td>\n",
              "    </tr>\n",
              "    <tr>\n",
              "      <th>7</th>\n",
              "      <td>ser</td>\n",
              "      <td>quase</td>\n",
              "    </tr>\n",
              "    <tr>\n",
              "      <th>8</th>\n",
              "      <td>ministro</td>\n",
              "      <td>governo</td>\n",
              "    </tr>\n",
              "    <tr>\n",
              "      <th>9</th>\n",
              "      <td>ter</td>\n",
              "      <td>fazer</td>\n",
              "    </tr>\n",
              "    <tr>\n",
              "      <th>10</th>\n",
              "      <td>outros</td>\n",
              "      <td>desde</td>\n",
              "    </tr>\n",
              "  </tbody>\n",
              "</table>\n",
              "</div>"
            ],
            "text/plain": [
              "   Dice before Term A Time Dice after Term A Time\n",
              "1                    feira                  vezes\n",
              "2                  governo                  sobre\n",
              "3                bolsonaro                    ser\n",
              "4                    ainda                 contra\n",
              "5                    sobre                   anos\n",
              "6                     país                    ter\n",
              "7                      ser                  quase\n",
              "8                 ministro                governo\n",
              "9                      ter                  fazer\n",
              "10                  outros                  desde"
            ]
          },
          "metadata": {
            "tags": []
          },
          "execution_count": 160
        }
      ]
    },
    {
      "cell_type": "markdown",
      "metadata": {
        "colab_type": "text",
        "id": "AP4w2Zb8AnsJ"
      },
      "source": [
        "Top-10 palavras associadas aos Top-10 Documentos de 'educação'"
      ]
    },
    {
      "cell_type": "code",
      "metadata": {
        "colab_type": "code",
        "outputId": "1fcfe834-dc46-4253-cec5-984269a2c9e9",
        "id": "edGeohYMAnsM",
        "colab": {
          "base_uri": "https://localhost:8080/",
          "height": 359
        }
      },
      "source": [
        "table_dice = pd.DataFrame()\n",
        "table_dice['Dice before Term A Time'] = table_3['Dice']\n",
        "table_dice['Dice after Term A Time'] = table_top3['Dice']\n",
        "table_dice"
      ],
      "execution_count": 161,
      "outputs": [
        {
          "output_type": "execute_result",
          "data": {
            "text/html": [
              "<div>\n",
              "<style scoped>\n",
              "    .dataframe tbody tr th:only-of-type {\n",
              "        vertical-align: middle;\n",
              "    }\n",
              "\n",
              "    .dataframe tbody tr th {\n",
              "        vertical-align: top;\n",
              "    }\n",
              "\n",
              "    .dataframe thead th {\n",
              "        text-align: right;\n",
              "    }\n",
              "</style>\n",
              "<table border=\"1\" class=\"dataframe\">\n",
              "  <thead>\n",
              "    <tr style=\"text-align: right;\">\n",
              "      <th></th>\n",
              "      <th>Dice before Term A Time</th>\n",
              "      <th>Dice after Term A Time</th>\n",
              "    </tr>\n",
              "  </thead>\n",
              "  <tbody>\n",
              "    <tr>\n",
              "      <th>1</th>\n",
              "      <td>alunos</td>\n",
              "      <td>sobre</td>\n",
              "    </tr>\n",
              "    <tr>\n",
              "      <th>2</th>\n",
              "      <td>escolas</td>\n",
              "      <td>ser</td>\n",
              "    </tr>\n",
              "    <tr>\n",
              "      <th>3</th>\n",
              "      <td>social</td>\n",
              "      <td>presidente</td>\n",
              "    </tr>\n",
              "    <tr>\n",
              "      <th>4</th>\n",
              "      <td>mudanças</td>\n",
              "      <td>onde</td>\n",
              "    </tr>\n",
              "    <tr>\n",
              "      <th>5</th>\n",
              "      <td>escola</td>\n",
              "      <td>ainda</td>\n",
              "    </tr>\n",
              "    <tr>\n",
              "      <th>6</th>\n",
              "      <td>discurso</td>\n",
              "      <td>ter</td>\n",
              "    </tr>\n",
              "    <tr>\n",
              "      <th>7</th>\n",
              "      <td>comissão</td>\n",
              "      <td>segundo</td>\n",
              "    </tr>\n",
              "    <tr>\n",
              "      <th>8</th>\n",
              "      <td>necessidade</td>\n",
              "      <td>pessoas</td>\n",
              "    </tr>\n",
              "    <tr>\n",
              "      <th>9</th>\n",
              "      <td>jovens</td>\n",
              "      <td>outras</td>\n",
              "    </tr>\n",
              "    <tr>\n",
              "      <th>10</th>\n",
              "      <td>pasta</td>\n",
              "      <td>maior</td>\n",
              "    </tr>\n",
              "  </tbody>\n",
              "</table>\n",
              "</div>"
            ],
            "text/plain": [
              "   Dice before Term A Time Dice after Term A Time\n",
              "1                   alunos                  sobre\n",
              "2                  escolas                    ser\n",
              "3                   social             presidente\n",
              "4                 mudanças                   onde\n",
              "5                   escola                  ainda\n",
              "6                 discurso                    ter\n",
              "7                 comissão                segundo\n",
              "8              necessidade                pessoas\n",
              "9                   jovens                 outras\n",
              "10                   pasta                  maior"
            ]
          },
          "metadata": {
            "tags": []
          },
          "execution_count": 161
        }
      ]
    },
    {
      "cell_type": "markdown",
      "metadata": {
        "colab_type": "text",
        "id": "WVE16R71AnsT"
      },
      "source": [
        "Top-10 palavras associadas aos Top-10 Documentos de 'ministério'"
      ]
    },
    {
      "cell_type": "code",
      "metadata": {
        "colab_type": "code",
        "outputId": "fc44890f-e5af-4251-9e9c-35a648e3d745",
        "id": "zWhkfsrPAnsV",
        "colab": {
          "base_uri": "https://localhost:8080/",
          "height": 359
        }
      },
      "source": [
        "table_dice = pd.DataFrame()\n",
        "table_dice['Dice before Term A Time'] = table_4['Dice']\n",
        "table_dice['Dice after Term A Time'] = table_top4['Dice']\n",
        "table_dice"
      ],
      "execution_count": 162,
      "outputs": [
        {
          "output_type": "execute_result",
          "data": {
            "text/html": [
              "<div>\n",
              "<style scoped>\n",
              "    .dataframe tbody tr th:only-of-type {\n",
              "        vertical-align: middle;\n",
              "    }\n",
              "\n",
              "    .dataframe tbody tr th {\n",
              "        vertical-align: top;\n",
              "    }\n",
              "\n",
              "    .dataframe thead th {\n",
              "        text-align: right;\n",
              "    }\n",
              "</style>\n",
              "<table border=\"1\" class=\"dataframe\">\n",
              "  <thead>\n",
              "    <tr style=\"text-align: right;\">\n",
              "      <th></th>\n",
              "      <th>Dice before Term A Time</th>\n",
              "      <th>Dice after Term A Time</th>\n",
              "    </tr>\n",
              "  </thead>\n",
              "  <tbody>\n",
              "    <tr>\n",
              "      <th>1</th>\n",
              "      <td>federal</td>\n",
              "      <td>ser</td>\n",
              "    </tr>\n",
              "    <tr>\n",
              "      <th>2</th>\n",
              "      <td>ministro</td>\n",
              "      <td>governo</td>\n",
              "    </tr>\n",
              "    <tr>\n",
              "      <th>3</th>\n",
              "      <td>público</td>\n",
              "      <td>ter</td>\n",
              "    </tr>\n",
              "    <tr>\n",
              "      <th>4</th>\n",
              "      <td>militares</td>\n",
              "      <td>país</td>\n",
              "    </tr>\n",
              "    <tr>\n",
              "      <th>5</th>\n",
              "      <td>valores</td>\n",
              "      <td>parte</td>\n",
              "    </tr>\n",
              "    <tr>\n",
              "      <th>6</th>\n",
              "      <td>governo</td>\n",
              "      <td>federal</td>\n",
              "    </tr>\n",
              "    <tr>\n",
              "      <th>7</th>\n",
              "      <td>disse</td>\n",
              "      <td>anos</td>\n",
              "    </tr>\n",
              "    <tr>\n",
              "      <th>8</th>\n",
              "      <td>rio</td>\n",
              "      <td>ainda</td>\n",
              "    </tr>\n",
              "    <tr>\n",
              "      <th>9</th>\n",
              "      <td>justiça</td>\n",
              "      <td>três</td>\n",
              "    </tr>\n",
              "    <tr>\n",
              "      <th>10</th>\n",
              "      <td>chefe</td>\n",
              "      <td>social</td>\n",
              "    </tr>\n",
              "  </tbody>\n",
              "</table>\n",
              "</div>"
            ],
            "text/plain": [
              "   Dice before Term A Time Dice after Term A Time\n",
              "1                  federal                    ser\n",
              "2                 ministro                governo\n",
              "3                  público                    ter\n",
              "4                militares                   país\n",
              "5                  valores                  parte\n",
              "6                  governo                federal\n",
              "7                    disse                   anos\n",
              "8                      rio                  ainda\n",
              "9                  justiça                   três\n",
              "10                   chefe                 social"
            ]
          },
          "metadata": {
            "tags": []
          },
          "execution_count": 162
        }
      ]
    },
    {
      "cell_type": "markdown",
      "metadata": {
        "colab_type": "text",
        "id": "Glvd_-ywAnse"
      },
      "source": [
        "Top-10 palavras associadas aos Top-10 Documentos de 'empresa'"
      ]
    },
    {
      "cell_type": "code",
      "metadata": {
        "colab_type": "code",
        "outputId": "abf07dfb-dde1-4fdc-931c-5eb15a76e072",
        "id": "_MGDn1wiAnsh",
        "colab": {
          "base_uri": "https://localhost:8080/",
          "height": 359
        }
      },
      "source": [
        "table_dice = pd.DataFrame()\n",
        "table_dice['Dice before Term A Time'] = table_5['Dice']\n",
        "table_dice['Dice after Term A Time'] = table_top5['Dice']\n",
        "table_dice"
      ],
      "execution_count": 163,
      "outputs": [
        {
          "output_type": "execute_result",
          "data": {
            "text/html": [
              "<div>\n",
              "<style scoped>\n",
              "    .dataframe tbody tr th:only-of-type {\n",
              "        vertical-align: middle;\n",
              "    }\n",
              "\n",
              "    .dataframe tbody tr th {\n",
              "        vertical-align: top;\n",
              "    }\n",
              "\n",
              "    .dataframe thead th {\n",
              "        text-align: right;\n",
              "    }\n",
              "</style>\n",
              "<table border=\"1\" class=\"dataframe\">\n",
              "  <thead>\n",
              "    <tr style=\"text-align: right;\">\n",
              "      <th></th>\n",
              "      <th>Dice before Term A Time</th>\n",
              "      <th>Dice after Term A Time</th>\n",
              "    </tr>\n",
              "  </thead>\n",
              "  <tbody>\n",
              "    <tr>\n",
              "      <th>1</th>\n",
              "      <td>reais</td>\n",
              "      <td>reais</td>\n",
              "    </tr>\n",
              "    <tr>\n",
              "      <th>2</th>\n",
              "      <td>empresas</td>\n",
              "      <td>nesta</td>\n",
              "    </tr>\n",
              "    <tr>\n",
              "      <th>3</th>\n",
              "      <td>milhões</td>\n",
              "      <td>dólares</td>\n",
              "    </tr>\n",
              "    <tr>\n",
              "      <th>4</th>\n",
              "      <td>bilhões</td>\n",
              "      <td>bilhões</td>\n",
              "    </tr>\n",
              "    <tr>\n",
              "      <th>5</th>\n",
              "      <td>valor</td>\n",
              "      <td>sobre</td>\n",
              "    </tr>\n",
              "    <tr>\n",
              "      <th>6</th>\n",
              "      <td>dólares</td>\n",
              "      <td>segundo</td>\n",
              "    </tr>\n",
              "    <tr>\n",
              "      <th>7</th>\n",
              "      <td>cerca</td>\n",
              "      <td>maior</td>\n",
              "    </tr>\n",
              "    <tr>\n",
              "      <th>8</th>\n",
              "      <td>mercado</td>\n",
              "      <td>feira</td>\n",
              "    </tr>\n",
              "    <tr>\n",
              "      <th>9</th>\n",
              "      <td>além</td>\n",
              "      <td>além</td>\n",
              "    </tr>\n",
              "    <tr>\n",
              "      <th>10</th>\n",
              "      <td>seis</td>\n",
              "      <td>passado</td>\n",
              "    </tr>\n",
              "  </tbody>\n",
              "</table>\n",
              "</div>"
            ],
            "text/plain": [
              "   Dice before Term A Time Dice after Term A Time\n",
              "1                    reais                  reais\n",
              "2                 empresas                  nesta\n",
              "3                  milhões                dólares\n",
              "4                  bilhões                bilhões\n",
              "5                    valor                  sobre\n",
              "6                  dólares                segundo\n",
              "7                    cerca                  maior\n",
              "8                  mercado                  feira\n",
              "9                     além                   além\n",
              "10                    seis                passado"
            ]
          },
          "metadata": {
            "tags": []
          },
          "execution_count": 163
        }
      ]
    },
    {
      "cell_type": "markdown",
      "metadata": {
        "id": "BYruIysMGlaN",
        "colab_type": "text"
      },
      "source": [
        "Para o top-3  a qualidade dos resultados não é o muito do que era esperado.\n",
        "Para os top-5 e top-10 a qualidade dos resultados mostram mais satifastórios podendo ser justificado pela consideração de documentos que realmente descrevem o contexto da palavra consultada."
      ]
    }
  ]
}