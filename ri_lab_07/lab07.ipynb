{
  "nbformat": 4,
  "nbformat_minor": 0,
  "metadata": {
    "colab": {
      "name": "lab07.ipynb",
      "version": "0.3.2",
      "provenance": [],
      "collapsed_sections": [],
      "include_colab_link": true
    },
    "kernelspec": {
      "name": "python3",
      "display_name": "Python 3"
    }
  },
  "cells": [
    {
      "cell_type": "markdown",
      "metadata": {
        "id": "view-in-github",
        "colab_type": "text"
      },
      "source": [
        "<a href=\"https://colab.research.google.com/github/RaquelRufino/InformationRetrieval/blob/master/ri_lab_07/lab07.ipynb\" target=\"_parent\"><img src=\"https://colab.research.google.com/assets/colab-badge.svg\" alt=\"Open In Colab\"/></a>"
      ]
    },
    {
      "cell_type": "code",
      "metadata": {
        "id": "9BtXxxAYC5el",
        "colab_type": "code",
        "outputId": "7b0dc632-958f-4dfd-97dd-02e8b780e881",
        "colab": {
          "base_uri": "https://localhost:8080/",
          "height": 51
        }
      },
      "source": [
        "import pandas as pd\n",
        "import numpy as np\n",
        "import nltk\n",
        "import re\n",
        "import collections\n",
        "import bisect\n",
        "from nltk.tokenize import RegexpTokenizer\n",
        "\n",
        "nltk.download('stopwords')\n",
        "result = pd.read_csv('https://raw.githubusercontent.com/RaquelRufino/InformationRetrieval/master/ri_lab_04/results.csv')\n",
        "                                           \n",
        "json = pd.read_json('https://raw.githubusercontent.com/RaquelRufino/InformationRetrieval/master/ri_lab_07/results_bernadi.json')\n",
        "feedback = {json['query'][i]:json['docs'][i] for i in range(10)}\n"
      ],
      "execution_count": 1,
      "outputs": [
        {
          "output_type": "stream",
          "text": [
            "[nltk_data] Downloading package stopwords to /root/nltk_data...\n",
            "[nltk_data]   Unzipping corpora/stopwords.zip.\n"
          ],
          "name": "stdout"
        }
      ]
    },
    {
      "cell_type": "code",
      "metadata": {
        "id": "iogeZ0rExmwd",
        "colab_type": "code",
        "colab": {}
      },
      "source": [
        "tknz = RegexpTokenizer(r'([A-Za-zÁáÉéÍíÓóÚúÃãÕõÇçÂâÊê]{3,27})')\n",
        "stopwords = nltk.corpus.stopwords.words('portuguese') \n",
        "indexes = {}\n",
        "M = result.text.count()\n",
        "\n",
        "for i in range(len(result)):\n",
        "  text = result.text[i]\n",
        "  words = [word for word in tknz.tokenize(text.lower())\n",
        "           if not bool(re.search(r'\\d', word))\n",
        "           and word not in stopwords and len(word) >= 3]  \n",
        "  for t in words:\n",
        "    if t not in indexes.keys():\n",
        "      indexes[t] = []\n",
        "    indexes[t].append(i)\n",
        "    \n",
        "for elem in indexes.items():\n",
        "  d = dict(collections.Counter(elem[1]))\n",
        "  indexes[elem[0]] = list(d.items())\n",
        "  \n",
        "for word in indexes:\n",
        "  k = len(indexes[word])\n",
        "  IDF = round(np.log((M+1)/k),2)\n",
        "  indexes[word].append(IDF)"
      ],
      "execution_count": 0,
      "outputs": []
    },
    {
      "cell_type": "markdown",
      "metadata": {
        "id": "xzOvBY5xmO8R",
        "colab_type": "text"
      },
      "source": [
        "### 1_Escolha um documento dentre aqueles da base do aluno Bernardi e crie uma consulta que você acha que tem boas chances de recuperar este documento. Em seguida, avalie os resultados de tal consulta usando a métrica de avaliação Reciprocal Rank"
      ]
    },
    {
      "cell_type": "markdown",
      "metadata": {
        "id": "WPSfrKwYxu-W",
        "colab_type": "text"
      },
      "source": [
        "### Reforma da Previdência"
      ]
    },
    {
      "cell_type": "code",
      "metadata": {
        "id": "c_bB8N7xz6Lc",
        "colab_type": "code",
        "outputId": "1c071405-a2b0-44e0-edcc-be7794a0867e",
        "colab": {
          "base_uri": "https://localhost:8080/",
          "height": 34
        }
      },
      "source": [
        "ndoc = 230\n",
        "\n",
        "document = result.loc[ndoc]\n",
        "query = 'reforma da previdencia'\n",
        "\n",
        "document.title"
      ],
      "execution_count": 3,
      "outputs": [
        {
          "output_type": "execute_result",
          "data": {
            "text/plain": [
              "'Paulo Guedes defende sua reforma da Previdência em audiência na Câmara'"
            ]
          },
          "metadata": {
            "tags": []
          },
          "execution_count": 3
        }
      ]
    },
    {
      "cell_type": "code",
      "metadata": {
        "id": "qRt3X6zgyzlo",
        "colab_type": "code",
        "colab": {}
      },
      "source": [
        "row = result.loc[result.url == document.url]\n"
      ],
      "execution_count": 0,
      "outputs": []
    },
    {
      "cell_type": "code",
      "metadata": {
        "id": "xynuk2cNy2sF",
        "colab_type": "code",
        "colab": {}
      },
      "source": [
        "def binary_vsm(query, document):\n",
        "  score = 0\n",
        "  query_tokens = query.split()\n",
        "  doc_tokens = document.split()\n",
        "  \n",
        "  for token in query_tokens:\n",
        "    score += (token in doc_tokens)\n",
        "    \n",
        "  return score\n",
        "\n",
        "def tf_vsm(query, document):\n",
        "  score = 0\n",
        "  doc_tokens = document.split()\n",
        "  query_tokens = query.split()\n",
        "  \n",
        "  for word in query_tokens:\n",
        "    score += doc_tokens.count(word)\n",
        "  \n",
        "  return score\n",
        "\n",
        "\n",
        "def bm25_vsm(query, document, k):\n",
        "  score = 0\n",
        "  doc_tokens = document.split()\n",
        "  query_tokens = query.split()\n",
        "  \n",
        "  words = [word for word in query_tokens if word in doc_tokens]\n",
        "    \n",
        "  for word in words:\n",
        "    cwd = doc_tokens.count(word)\n",
        "    dfw = 0\n",
        "    if word in indexes:\n",
        "      dfw = len(indexes[word][:-1])\n",
        "    score += (((k+1) * cwd) / (cwd + k)) * np.log10(((M+1) / dfw)) if dfw != 0 else 0\n",
        "  \n",
        "  return round(score,2)\n",
        "\n",
        "def tfidf_vsm(query, document):\n",
        "  score = 0\n",
        "  doc_tokens = document.split()\n",
        "  query_tokens = query.split()\n",
        "  \n",
        "  for word in query_tokens:\n",
        "    cwd = doc_tokens.count(word)\n",
        "    if word in indexes:\n",
        "      score += cwd * indexes[word][-1]\n",
        "  \n",
        "  return round(score,2)"
      ],
      "execution_count": 0,
      "outputs": []
    },
    {
      "cell_type": "code",
      "metadata": {
        "id": "muBGunsOy-H0",
        "colab_type": "code",
        "colab": {}
      },
      "source": [
        "\n",
        "def create_topk_models(query,k):\n",
        "  db = []\n",
        "  dtf = []\n",
        "  dtfidf = []\n",
        "  dbm25 = []\n",
        "  for i in range(len(result)):\n",
        "    doc = result.text[i].lower()\n",
        "    bisect.insort(db, (binary_vsm(query, doc), i))\n",
        "    bisect.insort(dtf, (tf_vsm(query,doc), i))\n",
        "    bisect.insort(dtfidf, (tfidf_vsm(query,doc), i))\n",
        "    bisect.insort(dbm25, (bm25_vsm(query,doc,20), i))\n",
        "  \n",
        "  db.reverse()\n",
        "  dtf.reverse()\n",
        "  dtfidf.reverse()\n",
        "  dbm25.reverse()\n",
        "  \n",
        "  return db[:k], dtf[:k], dtfidf[:k], dbm25[:k]"
      ],
      "execution_count": 0,
      "outputs": []
    },
    {
      "cell_type": "code",
      "metadata": {
        "id": "3Gp1Mxq2y__r",
        "colab_type": "code",
        "colab": {}
      },
      "source": [
        "top_binary, top_tf, top_tfidf, top_bm25 = create_topk_models(query,10)\n",
        "idoc = [doc for score,doc in top_binary]\n"
      ],
      "execution_count": 0,
      "outputs": []
    },
    {
      "cell_type": "code",
      "metadata": {
        "id": "JaVWyPcfzEwR",
        "colab_type": "code",
        "outputId": "58b92d15-450d-40d7-90a7-bb8866cbab05",
        "colab": {
          "base_uri": "https://localhost:8080/",
          "height": 359
        }
      },
      "source": [
        "query_df = pd.DataFrame()\n",
        "\n",
        "query_df['Binary'] = top_binary\n",
        "query_df['TF'] = top_tf\n",
        "query_df['TF-IDF'] = top_tfidf\n",
        "query_df['BM25'] = top_bm25\n",
        "\n",
        "query_df.index+=1\n",
        "query_df"
      ],
      "execution_count": 8,
      "outputs": [
        {
          "output_type": "execute_result",
          "data": {
            "text/html": [
              "<div>\n",
              "<style scoped>\n",
              "    .dataframe tbody tr th:only-of-type {\n",
              "        vertical-align: middle;\n",
              "    }\n",
              "\n",
              "    .dataframe tbody tr th {\n",
              "        vertical-align: top;\n",
              "    }\n",
              "\n",
              "    .dataframe thead th {\n",
              "        text-align: right;\n",
              "    }\n",
              "</style>\n",
              "<table border=\"1\" class=\"dataframe\">\n",
              "  <thead>\n",
              "    <tr style=\"text-align: right;\">\n",
              "      <th></th>\n",
              "      <th>Binary</th>\n",
              "      <th>TF</th>\n",
              "      <th>TF-IDF</th>\n",
              "      <th>BM25</th>\n",
              "    </tr>\n",
              "  </thead>\n",
              "  <tbody>\n",
              "    <tr>\n",
              "      <th>1</th>\n",
              "      <td>(2, 247)</td>\n",
              "      <td>(49, 150)</td>\n",
              "      <td>(16.96, 137)</td>\n",
              "      <td>(5.52, 137)</td>\n",
              "    </tr>\n",
              "    <tr>\n",
              "      <th>2</th>\n",
              "      <td>(2, 239)</td>\n",
              "      <td>(49, 137)</td>\n",
              "      <td>(12.72, 204)</td>\n",
              "      <td>(4.46, 204)</td>\n",
              "    </tr>\n",
              "    <tr>\n",
              "      <th>3</th>\n",
              "      <td>(2, 235)</td>\n",
              "      <td>(47, 165)</td>\n",
              "      <td>(12.72, 36)</td>\n",
              "      <td>(4.46, 36)</td>\n",
              "    </tr>\n",
              "    <tr>\n",
              "      <th>4</th>\n",
              "      <td>(2, 234)</td>\n",
              "      <td>(43, 114)</td>\n",
              "      <td>(10.6, 165)</td>\n",
              "      <td>(3.87, 165)</td>\n",
              "    </tr>\n",
              "    <tr>\n",
              "      <th>5</th>\n",
              "      <td>(2, 230)</td>\n",
              "      <td>(37, 216)</td>\n",
              "      <td>(8.48, 247)</td>\n",
              "      <td>(3.22, 247)</td>\n",
              "    </tr>\n",
              "    <tr>\n",
              "      <th>6</th>\n",
              "      <td>(2, 228)</td>\n",
              "      <td>(36, 161)</td>\n",
              "      <td>(8.48, 239)</td>\n",
              "      <td>(3.22, 239)</td>\n",
              "    </tr>\n",
              "    <tr>\n",
              "      <th>7</th>\n",
              "      <td>(2, 224)</td>\n",
              "      <td>(35, 142)</td>\n",
              "      <td>(8.48, 208)</td>\n",
              "      <td>(3.22, 208)</td>\n",
              "    </tr>\n",
              "    <tr>\n",
              "      <th>8</th>\n",
              "      <td>(2, 217)</td>\n",
              "      <td>(34, 248)</td>\n",
              "      <td>(8.48, 139)</td>\n",
              "      <td>(3.22, 139)</td>\n",
              "    </tr>\n",
              "    <tr>\n",
              "      <th>9</th>\n",
              "      <td>(2, 215)</td>\n",
              "      <td>(34, 172)</td>\n",
              "      <td>(6.36, 184)</td>\n",
              "      <td>(2.52, 184)</td>\n",
              "    </tr>\n",
              "    <tr>\n",
              "      <th>10</th>\n",
              "      <td>(2, 214)</td>\n",
              "      <td>(34, 64)</td>\n",
              "      <td>(6.36, 25)</td>\n",
              "      <td>(2.52, 25)</td>\n",
              "    </tr>\n",
              "  </tbody>\n",
              "</table>\n",
              "</div>"
            ],
            "text/plain": [
              "      Binary         TF        TF-IDF         BM25\n",
              "1   (2, 247)  (49, 150)  (16.96, 137)  (5.52, 137)\n",
              "2   (2, 239)  (49, 137)  (12.72, 204)  (4.46, 204)\n",
              "3   (2, 235)  (47, 165)   (12.72, 36)   (4.46, 36)\n",
              "4   (2, 234)  (43, 114)   (10.6, 165)  (3.87, 165)\n",
              "5   (2, 230)  (37, 216)   (8.48, 247)  (3.22, 247)\n",
              "6   (2, 228)  (36, 161)   (8.48, 239)  (3.22, 239)\n",
              "7   (2, 224)  (35, 142)   (8.48, 208)  (3.22, 208)\n",
              "8   (2, 217)  (34, 248)   (8.48, 139)  (3.22, 139)\n",
              "9   (2, 215)  (34, 172)   (6.36, 184)  (2.52, 184)\n",
              "10  (2, 214)   (34, 64)    (6.36, 25)   (2.52, 25)"
            ]
          },
          "metadata": {
            "tags": []
          },
          "execution_count": 8
        }
      ]
    },
    {
      "cell_type": "markdown",
      "metadata": {
        "id": "dUIuLMgfzKtk",
        "colab_type": "text"
      },
      "source": [
        "### Reciprocal Rank"
      ]
    },
    {
      "cell_type": "code",
      "metadata": {
        "id": "z5iQ4fKKzM6w",
        "colab_type": "code",
        "outputId": "93ef5340-17ca-4a0d-ab5b-2502128c7a3a",
        "colab": {
          "base_uri": "https://localhost:8080/",
          "height": 80
        }
      },
      "source": [
        "def reciprocal_rank(tuples, docId):\n",
        "  n = 1.0;\n",
        "  for r,doc in tuples:\n",
        "    if doc == docId:\n",
        "      return  [round(1 / n, 2)]\n",
        "    else:\n",
        "      n += 1\n",
        "\n",
        "rank_df = pd.DataFrame()\n",
        "rank_df['Binary'] = reciprocal_rank(query_df['Binary'], ndoc)\n",
        "rank_df['TF'] = reciprocal_rank(query_df['TF'], ndoc)\n",
        "rank_df['TF-IDF'] = reciprocal_rank(query_df['TF-IDF'], ndoc)\n",
        "rank_df['BM25'] = reciprocal_rank(query_df['BM25'], ndoc)\n",
        "rank_df.index+=1\n",
        "rank_df"
      ],
      "execution_count": 9,
      "outputs": [
        {
          "output_type": "execute_result",
          "data": {
            "text/html": [
              "<div>\n",
              "<style scoped>\n",
              "    .dataframe tbody tr th:only-of-type {\n",
              "        vertical-align: middle;\n",
              "    }\n",
              "\n",
              "    .dataframe tbody tr th {\n",
              "        vertical-align: top;\n",
              "    }\n",
              "\n",
              "    .dataframe thead th {\n",
              "        text-align: right;\n",
              "    }\n",
              "</style>\n",
              "<table border=\"1\" class=\"dataframe\">\n",
              "  <thead>\n",
              "    <tr style=\"text-align: right;\">\n",
              "      <th></th>\n",
              "      <th>Binary</th>\n",
              "      <th>TF</th>\n",
              "      <th>TF-IDF</th>\n",
              "      <th>BM25</th>\n",
              "    </tr>\n",
              "  </thead>\n",
              "  <tbody>\n",
              "    <tr>\n",
              "      <th>1</th>\n",
              "      <td>0.2</td>\n",
              "      <td>None</td>\n",
              "      <td>None</td>\n",
              "      <td>None</td>\n",
              "    </tr>\n",
              "  </tbody>\n",
              "</table>\n",
              "</div>"
            ],
            "text/plain": [
              "   Binary    TF TF-IDF  BM25\n",
              "1     0.2  None   None  None"
            ]
          },
          "metadata": {
            "tags": []
          },
          "execution_count": 9
        }
      ]
    },
    {
      "cell_type": "markdown",
      "metadata": {
        "id": "67V0Yrl4mTrv",
        "colab_type": "text"
      },
      "source": [
        "### 2_ A partir do gabarito fornecido em OBS1, calcule o MAP para cada algoritmo abaixo e aponte qual obteve o melhor resultado. Para os cálculos do MAP, considere que um documento é relevante para uma dada consulta se este documento estiver entre os documentos do gabarito para essa consulta, senão ele deve ser considerado irrelevante. "
      ]
    },
    {
      "cell_type": "code",
      "metadata": {
        "id": "jYje1w1JzQTi",
        "colab_type": "code",
        "colab": {}
      },
      "source": [
        "def doc_indexes(model):\n",
        "  return [doc for score,doc in model]\n",
        "\n",
        "def intersection(a,b):\n",
        "  return [elem for elem in a if elem in b]\n",
        "\n",
        "def calc_AP(query):\n",
        "  revelant_docs = []\n",
        "\n",
        "  for doc_info in feedback[query]:\n",
        "    row = result.loc[result.url == doc_info['URL']]\n",
        "    revelant_docs.append(row.index[0])\n",
        "  \n",
        "  binary, tf, tfidf, bm25 = create_topk_models(query, 10)\n",
        "  binary = doc_indexes(binary)\n",
        "  tf = doc_indexes(tf)\n",
        "  tfidf = doc_indexes(tfidf)\n",
        "  bm25 = doc_indexes(bm25)\n",
        "  \n",
        "  ap_binary = len(intersection(binary, revelant_docs)) / len(binary)\n",
        "  ap_tf = len(intersection(tf, revelant_docs)) / len(tf)\n",
        "  ap_tfidf = len(intersection(tfidf, revelant_docs)) / len(tfidf)\n",
        "  ap_bm25 = len(intersection(bm25, revelant_docs)) / len(bm25)\n",
        "  \n",
        "  return ap_binary, ap_tf, ap_tfidf, ap_bm25\n",
        "  \n",
        "def calc_MAP(queries):\n",
        "  sum_binary = 0\n",
        "  sum_tf = 0\n",
        "  sum_tfidf = 0\n",
        "  sum_bm25 = 0\n",
        "  \n",
        "  for query in queries:\n",
        "    ap_binary, ap_tf, ap_tfidf, ap_bm25 = calc_AP(query)\n",
        "    sum_binary += ap_binary\n",
        "    sum_tf += ap_tf\n",
        "    sum_tfidf += ap_tfidf\n",
        "    sum_bm25 += ap_bm25\n",
        "  \n",
        "  map_binary = round(sum_binary / len(queries),2)\n",
        "  map_tf = round(sum_tf / len(queries),2)\n",
        "  map_tfidf = round(sum_tfidf / len(queries),2)\n",
        "  map_bm25 = round(sum_bm25 / len(queries),2)\n",
        "  \n",
        "  return map_binary, map_tf, map_tfidf, map_bm25"
      ],
      "execution_count": 0,
      "outputs": []
    },
    {
      "cell_type": "code",
      "metadata": {
        "id": "uh6uTLmhzW5F",
        "colab_type": "code",
        "colab": {}
      },
      "source": [
        "map_binary, map_tf, map_tfidf, map_bm25 = calc_MAP(feedback.keys())\n"
      ],
      "execution_count": 0,
      "outputs": []
    },
    {
      "cell_type": "code",
      "metadata": {
        "id": "vKG7zMt9zYtq",
        "colab_type": "code",
        "outputId": "511fdbe6-2207-474a-9a1a-5ee099da4bb8",
        "colab": {
          "base_uri": "https://localhost:8080/",
          "height": 34
        }
      },
      "source": [
        "map_binary\n"
      ],
      "execution_count": 12,
      "outputs": [
        {
          "output_type": "execute_result",
          "data": {
            "text/plain": [
              "0.08"
            ]
          },
          "metadata": {
            "tags": []
          },
          "execution_count": 12
        }
      ]
    },
    {
      "cell_type": "code",
      "metadata": {
        "id": "dJ8phAt8zZK3",
        "colab_type": "code",
        "outputId": "2d223f0f-7f81-4517-ebf8-6766103e72d6",
        "colab": {
          "base_uri": "https://localhost:8080/",
          "height": 34
        }
      },
      "source": [
        "map_tf\n"
      ],
      "execution_count": 13,
      "outputs": [
        {
          "output_type": "execute_result",
          "data": {
            "text/plain": [
              "0.05"
            ]
          },
          "metadata": {
            "tags": []
          },
          "execution_count": 13
        }
      ]
    },
    {
      "cell_type": "code",
      "metadata": {
        "id": "8O2LhcZOzakJ",
        "colab_type": "code",
        "outputId": "f36103c0-73cf-490e-c19f-a973ccd5f3d2",
        "colab": {
          "base_uri": "https://localhost:8080/",
          "height": 34
        }
      },
      "source": [
        "map_tfidf"
      ],
      "execution_count": 14,
      "outputs": [
        {
          "output_type": "execute_result",
          "data": {
            "text/plain": [
              "0.13"
            ]
          },
          "metadata": {
            "tags": []
          },
          "execution_count": 14
        }
      ]
    },
    {
      "cell_type": "code",
      "metadata": {
        "id": "Mxs-h2zJzbuX",
        "colab_type": "code",
        "outputId": "7f0bb893-e014-402b-865b-a148c2178b50",
        "colab": {
          "base_uri": "https://localhost:8080/",
          "height": 34
        }
      },
      "source": [
        "map_bm25"
      ],
      "execution_count": 15,
      "outputs": [
        {
          "output_type": "execute_result",
          "data": {
            "text/plain": [
              "0.14"
            ]
          },
          "metadata": {
            "tags": []
          },
          "execution_count": 15
        }
      ]
    },
    {
      "cell_type": "markdown",
      "metadata": {
        "id": "D1ObbicDm0Kr",
        "colab_type": "text"
      },
      "source": [
        "### 3_Repita Q2 usando a avaliação multi-nível DCG. Utilize o campo \"level\" do gabarito para o cálculo do DCG e do idealDCG. "
      ]
    },
    {
      "cell_type": "code",
      "metadata": {
        "id": "Q1WUsM99e1rk",
        "colab_type": "code",
        "colab": {}
      },
      "source": [
        "def set_levels(m, d):\n",
        "  model = [(0, doc) for doc in m if doc not in d]\n",
        "  dic = [(v, k) for k, v in d.items()]\n",
        "  \n",
        "  res = model + dic\n",
        "  res.sort(reverse=True)\n",
        "  \n",
        "  return res\n",
        "\n",
        "def get_level(d, l):\n",
        "  for level,doc in l:\n",
        "    if doc == d:\n",
        "      return level\n",
        "\n",
        "def all_docs(bi,tf,tfidf,bm):\n",
        "  return doc_indexes(bi), doc_indexes(tf), doc_indexes(tfidf), doc_indexes(bm)\n",
        "    \n",
        "def all_levels(bi,tf,tfidf,bm, rd):\n",
        "  return set_levels(bi,rd), set_levels(tf,rd), set_levels(tfidf,rd), set_levels(bm,rd)\n",
        "\n",
        "def extract_docs(bi,tf,tfidf,bm):\n",
        "  return [doc for level,doc in bi], [doc for level,doc in tf], [doc for level,doc in tfidf], [doc for level,doc in bm]"
      ],
      "execution_count": 0,
      "outputs": []
    },
    {
      "cell_type": "code",
      "metadata": {
        "id": "F8XiF-Y9wM-7",
        "colab_type": "code",
        "colab": {}
      },
      "source": [
        "def calc_dcg(model, levels):\n",
        "  dcg = 0.0\n",
        "  for i in range(1,len(model)+1):\n",
        "    doc = model[i-1]\n",
        "    level = get_level(doc, levels)\n",
        "    dcg += (2^level) / np.log2(i + 1.0)\n",
        "    \n",
        "  return dcg\n",
        "\n",
        "def dcg_models(query):\n",
        "  relevant_docs = {}\n",
        "\n",
        "  for doc_info in feedback[query]:\n",
        "    row = result.loc[result.url == doc_info['URL']]\n",
        "    relevant_docs[row.index[0]] = doc_info['level']\n",
        "    \n",
        "  binary, tf, tfidf, bm25 = create_topk_models(query, 5)\n",
        "  binary, tf, tfidf, bm25 = all_docs(binary,tf,tfidf,bm25)\n",
        "  \n",
        "  dcg_binary = round(calc_dcg(binary, set_levels(binary, relevant_docs)),2)\n",
        "  dcg_tf = round(calc_dcg(tf, set_levels(tf, relevant_docs)),2)\n",
        "  dcg_tfidf = round(calc_dcg(tfidf, set_levels(tfidf, relevant_docs)),2)\n",
        "  dcg_bm25 = round(calc_dcg(bm25, set_levels(bm25, relevant_docs)),2)\n",
        "  \n",
        "  return dcg_binary, dcg_tf, dcg_tfidf, dcg_bm25\n",
        "\n",
        "def idcg_models(query):\n",
        "  relevant_docs = {}\n",
        "\n",
        "  for doc_info in feedback[query]:\n",
        "    row = result.loc[result.url == doc_info['URL']]\n",
        "    relevant_docs[row.index[0]] = doc_info['level']\n",
        "    \n",
        "  binary, tf, tfidf, bm25 = create_topk_models(query, 5)\n",
        "  binary = doc_indexes(binary)\n",
        "  tf = doc_indexes(tf)\n",
        "  tfidf = doc_indexes(tfidf)\n",
        "  bm25 = doc_indexes(bm25)\n",
        "  \n",
        "  levels_binary, levels_tf, levels_tfidf, levels_bm25 = all_levels(binary,tf,tfidf,bm25,relevant_docs)\n",
        "  \n",
        "  binary, tf, tfidf, bm25 = extract_docs(levels_binary, levels_tf, levels_tfidf, levels_bm25)\n",
        "  \n",
        "  idcg_binary = round(calc_dcg(binary, levels_binary),2)\n",
        "  idcg_tf = round(calc_dcg(tf, levels_tf),2)\n",
        "  idcg_tfidf = round(calc_dcg(tfidf, levels_tfidf),2)\n",
        "  idcg_bm25 = round(calc_dcg(bm25, levels_bm25),2)\n",
        "  \n",
        "  return idcg_binary, idcg_tf, idcg_tfidf, idcg_bm25"
      ],
      "execution_count": 0,
      "outputs": []
    },
    {
      "cell_type": "code",
      "metadata": {
        "id": "hXV_MKNX8S2Q",
        "colab_type": "code",
        "colab": {}
      },
      "source": [
        "queries_results = {}\n",
        "for query in feedback.keys():\n",
        "  dcg_binary, dcg_tf, dcg_tfidf, dcg_bm25 = dcg_models(query)\n",
        "  idcg_binary, idcg_tf, idcg_tfidf, idcg_bm25 = idcg_models(query)\n",
        "  \n",
        "  binary = (dcg_binary, idcg_binary)\n",
        "  tf = (dcg_tf, idcg_tf)\n",
        "  tfidf = (dcg_tfidf, idcg_tfidf)\n",
        "  bm25 = (dcg_bm25, idcg_bm25)\n",
        "  \n",
        "  results = [binary, tf, tfidf, bm25]\n",
        "  \n",
        "  queries_results[query] = results"
      ],
      "execution_count": 0,
      "outputs": []
    },
    {
      "cell_type": "code",
      "metadata": {
        "id": "JzgWGjdueefL",
        "colab_type": "code",
        "colab": {}
      },
      "source": [
        ""
      ],
      "execution_count": 0,
      "outputs": []
    },
    {
      "cell_type": "code",
      "metadata": {
        "id": "-9lyVqeHehYZ",
        "colab_type": "code",
        "colab": {
          "base_uri": "https://localhost:8080/",
          "height": 359
        },
        "outputId": "4a8f91b9-32d9-407d-dc8b-496b958ff66a"
      },
      "source": [
        "results_df = pd.DataFrame()\n",
        "results_df['Query'] = feedback.keys()\n",
        "results_df['Binary'] = [queries_results[query][0] for query in feedback.keys()]\n",
        "results_df['TF'] = [queries_results[query][1] for query in feedback.keys()]\n",
        "results_df['TF-IDF'] = [queries_results[query][2] for query in feedback.keys()]\n",
        "results_df['BM25'] = [queries_results[query][3] for query in feedback.keys()]\n",
        "results_df.index+=1\n",
        "\n",
        "results_df"
      ],
      "execution_count": 21,
      "outputs": [
        {
          "output_type": "execute_result",
          "data": {
            "text/html": [
              "<div>\n",
              "<style scoped>\n",
              "    .dataframe tbody tr th:only-of-type {\n",
              "        vertical-align: middle;\n",
              "    }\n",
              "\n",
              "    .dataframe tbody tr th {\n",
              "        vertical-align: top;\n",
              "    }\n",
              "\n",
              "    .dataframe thead th {\n",
              "        text-align: right;\n",
              "    }\n",
              "</style>\n",
              "<table border=\"1\" class=\"dataframe\">\n",
              "  <thead>\n",
              "    <tr style=\"text-align: right;\">\n",
              "      <th></th>\n",
              "      <th>Query</th>\n",
              "      <th>Binary</th>\n",
              "      <th>TF</th>\n",
              "      <th>TF-IDF</th>\n",
              "      <th>BM25</th>\n",
              "    </tr>\n",
              "  </thead>\n",
              "  <tbody>\n",
              "    <tr>\n",
              "      <th>1</th>\n",
              "      <td>território palestino</td>\n",
              "      <td>(5.9, 15.65)</td>\n",
              "      <td>(5.9, 15.65)</td>\n",
              "      <td>(5.51, 14.98)</td>\n",
              "      <td>(5.51, 14.98)</td>\n",
              "    </tr>\n",
              "    <tr>\n",
              "      <th>2</th>\n",
              "      <td>recessão mundial</td>\n",
              "      <td>(11.58, 14.98)</td>\n",
              "      <td>(9.77, 14.98)</td>\n",
              "      <td>(9.77, 14.98)</td>\n",
              "      <td>(9.77, 14.98)</td>\n",
              "    </tr>\n",
              "    <tr>\n",
              "      <th>3</th>\n",
              "      <td>ditadura militar</td>\n",
              "      <td>(5.9, 17.17)</td>\n",
              "      <td>(5.9, 17.17)</td>\n",
              "      <td>(5.9, 17.17)</td>\n",
              "      <td>(5.9, 17.17)</td>\n",
              "    </tr>\n",
              "    <tr>\n",
              "      <th>4</th>\n",
              "      <td>muro das lamentações</td>\n",
              "      <td>(18.08, 19.29)</td>\n",
              "      <td>(5.9, 21.3)</td>\n",
              "      <td>(19.29, 19.29)</td>\n",
              "      <td>(19.29, 19.29)</td>\n",
              "    </tr>\n",
              "    <tr>\n",
              "      <th>5</th>\n",
              "      <td>brasil e argentina</td>\n",
              "      <td>(8.9, 17.5)</td>\n",
              "      <td>(5.9, 18.17)</td>\n",
              "      <td>(7.79, 17.5)</td>\n",
              "      <td>(7.79, 17.5)</td>\n",
              "    </tr>\n",
              "    <tr>\n",
              "      <th>6</th>\n",
              "      <td>golpe militar</td>\n",
              "      <td>(5.9, 20.67)</td>\n",
              "      <td>(5.9, 20.67)</td>\n",
              "      <td>(8.4, 20.04)</td>\n",
              "      <td>(8.4, 20.04)</td>\n",
              "    </tr>\n",
              "    <tr>\n",
              "      <th>7</th>\n",
              "      <td>governo bolsonaro</td>\n",
              "      <td>(5.9, 16.54)</td>\n",
              "      <td>(5.9, 16.54)</td>\n",
              "      <td>(5.9, 16.54)</td>\n",
              "      <td>(5.9, 16.54)</td>\n",
              "    </tr>\n",
              "    <tr>\n",
              "      <th>8</th>\n",
              "      <td>ministro da economia</td>\n",
              "      <td>(5.9, 17.17)</td>\n",
              "      <td>(5.9, 17.17)</td>\n",
              "      <td>(5.9, 17.17)</td>\n",
              "      <td>(5.9, 17.17)</td>\n",
              "    </tr>\n",
              "    <tr>\n",
              "      <th>9</th>\n",
              "      <td>prisão de Temer</td>\n",
              "      <td>(5.9, 13.43)</td>\n",
              "      <td>(5.9, 13.43)</td>\n",
              "      <td>(10.29, 12.05)</td>\n",
              "      <td>(10.29, 12.05)</td>\n",
              "    </tr>\n",
              "    <tr>\n",
              "      <th>10</th>\n",
              "      <td>Congresso Nacional</td>\n",
              "      <td>(5.9, 9.65)</td>\n",
              "      <td>(5.9, 9.65)</td>\n",
              "      <td>(5.9, 9.65)</td>\n",
              "      <td>(5.9, 9.65)</td>\n",
              "    </tr>\n",
              "  </tbody>\n",
              "</table>\n",
              "</div>"
            ],
            "text/plain": [
              "                   Query          Binary  ...          TF-IDF            BM25\n",
              "1   território palestino    (5.9, 15.65)  ...   (5.51, 14.98)   (5.51, 14.98)\n",
              "2       recessão mundial  (11.58, 14.98)  ...   (9.77, 14.98)   (9.77, 14.98)\n",
              "3       ditadura militar    (5.9, 17.17)  ...    (5.9, 17.17)    (5.9, 17.17)\n",
              "4   muro das lamentações  (18.08, 19.29)  ...  (19.29, 19.29)  (19.29, 19.29)\n",
              "5     brasil e argentina     (8.9, 17.5)  ...    (7.79, 17.5)    (7.79, 17.5)\n",
              "6          golpe militar    (5.9, 20.67)  ...    (8.4, 20.04)    (8.4, 20.04)\n",
              "7      governo bolsonaro    (5.9, 16.54)  ...    (5.9, 16.54)    (5.9, 16.54)\n",
              "8   ministro da economia    (5.9, 17.17)  ...    (5.9, 17.17)    (5.9, 17.17)\n",
              "9        prisão de Temer    (5.9, 13.43)  ...  (10.29, 12.05)  (10.29, 12.05)\n",
              "10    Congresso Nacional     (5.9, 9.65)  ...     (5.9, 9.65)     (5.9, 9.65)\n",
              "\n",
              "[10 rows x 5 columns]"
            ]
          },
          "metadata": {
            "tags": []
          },
          "execution_count": 21
        }
      ]
    }
  ]
}