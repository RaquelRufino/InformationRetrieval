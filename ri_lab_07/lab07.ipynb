{
  "nbformat": 4,
  "nbformat_minor": 0,
  "metadata": {
    "colab": {
      "name": "lab07.ipynb",
      "version": "0.3.2",
      "provenance": [],
      "include_colab_link": true
    },
    "kernelspec": {
      "name": "python3",
      "display_name": "Python 3"
    }
  },
  "cells": [
    {
      "cell_type": "markdown",
      "metadata": {
        "id": "view-in-github",
        "colab_type": "text"
      },
      "source": [
        "<a href=\"https://colab.research.google.com/github/RaquelRufino/InformationRetrieval/blob/master/ri_lab_07/lab07.ipynb\" target=\"_parent\"><img src=\"https://colab.research.google.com/assets/colab-badge.svg\" alt=\"Open In Colab\"/></a>"
      ]
    },
    {
      "cell_type": "code",
      "metadata": {
        "id": "9BtXxxAYC5el",
        "colab_type": "code",
        "colab": {
          "base_uri": "https://localhost:8080/",
          "height": 51
        },
        "outputId": "211a1431-0980-423c-e683-a4fd81eca374"
      },
      "source": [
        "import pandas as pd\n",
        "import numpy as np\n",
        "import nltk\n",
        "import re\n",
        "import collections\n",
        "import bisect\n",
        "from nltk.tokenize import RegexpTokenizer\n",
        "\n",
        "nltk.download('stopwords')\n",
        "result = pd.read_csv('https://raw.githubusercontent.com/RaquelRufino/InformationRetrieval/master/ri_lab_04/results.csv')\n",
        "                                           \n",
        "json = pd.read_json('https://raw.githubusercontent.com/RaquelRufino/InformationRetrieval/master/ri_lab_07/results_bernadi.json')\n",
        "feedback = {json['query'][i]:json['docs'][i] for i in range(10)}\n"
      ],
      "execution_count": 20,
      "outputs": [
        {
          "output_type": "stream",
          "text": [
            "[nltk_data] Downloading package stopwords to /root/nltk_data...\n",
            "[nltk_data]   Package stopwords is already up-to-date!\n"
          ],
          "name": "stdout"
        }
      ]
    },
    {
      "cell_type": "code",
      "metadata": {
        "id": "iogeZ0rExmwd",
        "colab_type": "code",
        "colab": {}
      },
      "source": [
        "tknz = RegexpTokenizer(r'([A-Za-zÁáÉéÍíÓóÚúÃãÕõÇçÂâÊê]{3,27})')\n",
        "stopwords = nltk.corpus.stopwords.words('portuguese') \n",
        "indexes = {}\n",
        "M = result.text.count()\n",
        "\n",
        "for i in range(len(result)):\n",
        "  text = result.text[i]\n",
        "  words = [word for word in tknz.tokenize(text.lower())\n",
        "           if not bool(re.search(r'\\d', word))\n",
        "           and word not in stopwords and len(word) >= 3]  \n",
        "  for t in words:\n",
        "    if t not in indexes.keys():\n",
        "      indexes[t] = []\n",
        "    indexes[t].append(i)\n",
        "    \n",
        "for elem in indexes.items():\n",
        "  d = dict(collections.Counter(elem[1]))\n",
        "  indexes[elem[0]] = list(d.items())\n",
        "  \n",
        "for word in indexes:\n",
        "  k = len(indexes[word])\n",
        "  IDF = round(np.log((M+1)/k),2)\n",
        "  indexes[word].append(IDF)"
      ],
      "execution_count": 0,
      "outputs": []
    },
    {
      "cell_type": "markdown",
      "metadata": {
        "id": "xzOvBY5xmO8R",
        "colab_type": "text"
      },
      "source": [
        "### 1_Escolha um documento dentre aqueles da base do aluno Bernardi e crie uma consulta que você acha que tem boas chances de recuperar este documento. Em seguida, avalie os resultados de tal consulta usando a métrica de avaliação Reciprocal Rank"
      ]
    },
    {
      "cell_type": "markdown",
      "metadata": {
        "id": "WPSfrKwYxu-W",
        "colab_type": "text"
      },
      "source": [
        "### Reforma da Previdência"
      ]
    },
    {
      "cell_type": "code",
      "metadata": {
        "id": "c_bB8N7xz6Lc",
        "colab_type": "code",
        "colab": {
          "base_uri": "https://localhost:8080/",
          "height": 34
        },
        "outputId": "5bb61be7-81bb-44ad-cdc4-2712d84b850b"
      },
      "source": [
        "ndoc = 230\n",
        "\n",
        "document = result.loc[ndoc]\n",
        "query = 'reforma da previdencia'\n",
        "\n",
        "document.title"
      ],
      "execution_count": 22,
      "outputs": [
        {
          "output_type": "execute_result",
          "data": {
            "text/plain": [
              "'Paulo Guedes defende sua reforma da Previdência em audiência na Câmara'"
            ]
          },
          "metadata": {
            "tags": []
          },
          "execution_count": 22
        }
      ]
    },
    {
      "cell_type": "code",
      "metadata": {
        "id": "qRt3X6zgyzlo",
        "colab_type": "code",
        "colab": {}
      },
      "source": [
        "row = result.loc[result.url == document.url]\n"
      ],
      "execution_count": 0,
      "outputs": []
    },
    {
      "cell_type": "code",
      "metadata": {
        "id": "xynuk2cNy2sF",
        "colab_type": "code",
        "colab": {}
      },
      "source": [
        "def binary_vsm(query, document):\n",
        "  score = 0\n",
        "  query_tokens = query.split()\n",
        "  doc_tokens = document.split()\n",
        "  \n",
        "  for token in query_tokens:\n",
        "    score += (token in doc_tokens)\n",
        "    \n",
        "  return score\n",
        "\n",
        "def tf_vsm(query, document):\n",
        "  score = 0\n",
        "  doc_tokens = document.split()\n",
        "  query_tokens = query.split()\n",
        "  \n",
        "  for word in query_tokens:\n",
        "    score += doc_tokens.count(word)\n",
        "  \n",
        "  return score\n",
        "\n",
        "\n",
        "def bm25_vsm(query, document, k):\n",
        "  score = 0\n",
        "  doc_tokens = document.split()\n",
        "  query_tokens = query.split()\n",
        "  \n",
        "  words = [word for word in query_tokens if word in doc_tokens]\n",
        "    \n",
        "  for word in words:\n",
        "    cwd = doc_tokens.count(word)\n",
        "    dfw = 0\n",
        "    if word in indexes:\n",
        "      dfw = len(indexes[word][:-1])\n",
        "    score += (((k+1) * cwd) / (cwd + k)) * np.log10(((M+1) / dfw)) if dfw != 0 else 0\n",
        "  \n",
        "  return round(score,2)\n",
        "\n",
        "def tfidf_vsm(query, document):\n",
        "  score = 0\n",
        "  doc_tokens = document.split()\n",
        "  query_tokens = query.split()\n",
        "  \n",
        "  for word in query_tokens:\n",
        "    cwd = doc_tokens.count(word)\n",
        "    if word in indexes:\n",
        "      score += cwd * indexes[word][-1]\n",
        "  \n",
        "  return round(score,2)"
      ],
      "execution_count": 0,
      "outputs": []
    },
    {
      "cell_type": "code",
      "metadata": {
        "id": "muBGunsOy-H0",
        "colab_type": "code",
        "colab": {}
      },
      "source": [
        "\n",
        "def create_topk_models(query,k):\n",
        "  db = []\n",
        "  dtf = []\n",
        "  dtfidf = []\n",
        "  dbm25 = []\n",
        "  for i in range(len(result)):\n",
        "    doc = result.text[i].lower()\n",
        "    bisect.insort(db, (binary_vsm(query, doc), i))\n",
        "    bisect.insort(dtf, (tf_vsm(query,doc), i))\n",
        "    bisect.insort(dtfidf, (tfidf_vsm(query,doc), i))\n",
        "    bisect.insort(dbm25, (bm25_vsm(query,doc,20), i))\n",
        "  \n",
        "  db.reverse()\n",
        "  dtf.reverse()\n",
        "  dtfidf.reverse()\n",
        "  dbm25.reverse()\n",
        "  \n",
        "  return db[:k], dtf[:k], dtfidf[:k], dbm25[:k]"
      ],
      "execution_count": 0,
      "outputs": []
    },
    {
      "cell_type": "code",
      "metadata": {
        "id": "3Gp1Mxq2y__r",
        "colab_type": "code",
        "colab": {}
      },
      "source": [
        "top_binary, top_tf, top_tfidf, top_bm25 = create_topk_models(query,10)\n",
        "idoc = [doc for score,doc in top_binary]\n"
      ],
      "execution_count": 0,
      "outputs": []
    },
    {
      "cell_type": "code",
      "metadata": {
        "id": "JaVWyPcfzEwR",
        "colab_type": "code",
        "colab": {
          "base_uri": "https://localhost:8080/",
          "height": 359
        },
        "outputId": "1824c8f3-fe28-4cbc-f112-181beb962b7d"
      },
      "source": [
        "query_df = pd.DataFrame()\n",
        "\n",
        "query_df['Binary'] = top_binary\n",
        "query_df['TF'] = top_tf\n",
        "query_df['TF-IDF'] = top_tfidf\n",
        "query_df['BM25'] = top_bm25\n",
        "\n",
        "query_df.index+=1\n",
        "query_df"
      ],
      "execution_count": 27,
      "outputs": [
        {
          "output_type": "execute_result",
          "data": {
            "text/html": [
              "<div>\n",
              "<style scoped>\n",
              "    .dataframe tbody tr th:only-of-type {\n",
              "        vertical-align: middle;\n",
              "    }\n",
              "\n",
              "    .dataframe tbody tr th {\n",
              "        vertical-align: top;\n",
              "    }\n",
              "\n",
              "    .dataframe thead th {\n",
              "        text-align: right;\n",
              "    }\n",
              "</style>\n",
              "<table border=\"1\" class=\"dataframe\">\n",
              "  <thead>\n",
              "    <tr style=\"text-align: right;\">\n",
              "      <th></th>\n",
              "      <th>Binary</th>\n",
              "      <th>TF</th>\n",
              "      <th>TF-IDF</th>\n",
              "      <th>BM25</th>\n",
              "    </tr>\n",
              "  </thead>\n",
              "  <tbody>\n",
              "    <tr>\n",
              "      <th>1</th>\n",
              "      <td>(2, 247)</td>\n",
              "      <td>(49, 150)</td>\n",
              "      <td>(16.96, 137)</td>\n",
              "      <td>(5.52, 137)</td>\n",
              "    </tr>\n",
              "    <tr>\n",
              "      <th>2</th>\n",
              "      <td>(2, 239)</td>\n",
              "      <td>(49, 137)</td>\n",
              "      <td>(12.72, 204)</td>\n",
              "      <td>(4.46, 204)</td>\n",
              "    </tr>\n",
              "    <tr>\n",
              "      <th>3</th>\n",
              "      <td>(2, 235)</td>\n",
              "      <td>(47, 165)</td>\n",
              "      <td>(12.72, 36)</td>\n",
              "      <td>(4.46, 36)</td>\n",
              "    </tr>\n",
              "    <tr>\n",
              "      <th>4</th>\n",
              "      <td>(2, 234)</td>\n",
              "      <td>(43, 114)</td>\n",
              "      <td>(10.6, 165)</td>\n",
              "      <td>(3.87, 165)</td>\n",
              "    </tr>\n",
              "    <tr>\n",
              "      <th>5</th>\n",
              "      <td>(2, 230)</td>\n",
              "      <td>(37, 216)</td>\n",
              "      <td>(8.48, 247)</td>\n",
              "      <td>(3.22, 247)</td>\n",
              "    </tr>\n",
              "    <tr>\n",
              "      <th>6</th>\n",
              "      <td>(2, 228)</td>\n",
              "      <td>(36, 161)</td>\n",
              "      <td>(8.48, 239)</td>\n",
              "      <td>(3.22, 239)</td>\n",
              "    </tr>\n",
              "    <tr>\n",
              "      <th>7</th>\n",
              "      <td>(2, 224)</td>\n",
              "      <td>(35, 142)</td>\n",
              "      <td>(8.48, 208)</td>\n",
              "      <td>(3.22, 208)</td>\n",
              "    </tr>\n",
              "    <tr>\n",
              "      <th>8</th>\n",
              "      <td>(2, 217)</td>\n",
              "      <td>(34, 248)</td>\n",
              "      <td>(8.48, 139)</td>\n",
              "      <td>(3.22, 139)</td>\n",
              "    </tr>\n",
              "    <tr>\n",
              "      <th>9</th>\n",
              "      <td>(2, 215)</td>\n",
              "      <td>(34, 172)</td>\n",
              "      <td>(6.36, 184)</td>\n",
              "      <td>(2.52, 184)</td>\n",
              "    </tr>\n",
              "    <tr>\n",
              "      <th>10</th>\n",
              "      <td>(2, 214)</td>\n",
              "      <td>(34, 64)</td>\n",
              "      <td>(6.36, 25)</td>\n",
              "      <td>(2.52, 25)</td>\n",
              "    </tr>\n",
              "  </tbody>\n",
              "</table>\n",
              "</div>"
            ],
            "text/plain": [
              "      Binary         TF        TF-IDF         BM25\n",
              "1   (2, 247)  (49, 150)  (16.96, 137)  (5.52, 137)\n",
              "2   (2, 239)  (49, 137)  (12.72, 204)  (4.46, 204)\n",
              "3   (2, 235)  (47, 165)   (12.72, 36)   (4.46, 36)\n",
              "4   (2, 234)  (43, 114)   (10.6, 165)  (3.87, 165)\n",
              "5   (2, 230)  (37, 216)   (8.48, 247)  (3.22, 247)\n",
              "6   (2, 228)  (36, 161)   (8.48, 239)  (3.22, 239)\n",
              "7   (2, 224)  (35, 142)   (8.48, 208)  (3.22, 208)\n",
              "8   (2, 217)  (34, 248)   (8.48, 139)  (3.22, 139)\n",
              "9   (2, 215)  (34, 172)   (6.36, 184)  (2.52, 184)\n",
              "10  (2, 214)   (34, 64)    (6.36, 25)   (2.52, 25)"
            ]
          },
          "metadata": {
            "tags": []
          },
          "execution_count": 27
        }
      ]
    },
    {
      "cell_type": "markdown",
      "metadata": {
        "id": "dUIuLMgfzKtk",
        "colab_type": "text"
      },
      "source": [
        "### Reciprocal Rank"
      ]
    },
    {
      "cell_type": "code",
      "metadata": {
        "id": "z5iQ4fKKzM6w",
        "colab_type": "code",
        "colab": {
          "base_uri": "https://localhost:8080/",
          "height": 80
        },
        "outputId": "4c700354-f1c1-4893-f704-eb7e625eeb59"
      },
      "source": [
        "def reciprocal_rank(tuples, docId):\n",
        "  n = 1.0;\n",
        "  for r,doc in tuples:\n",
        "    if doc == docId:\n",
        "      return  [round(1 / n, 2)]\n",
        "    else:\n",
        "      n += 1\n",
        "\n",
        "rank_df = pd.DataFrame()\n",
        "rank_df['Binary'] = reciprocal_rank(query_df['Binary'], ndoc)\n",
        "rank_df['TF'] = reciprocal_rank(query_df['TF'], ndoc)\n",
        "rank_df['TF-IDF'] = reciprocal_rank(query_df['TF-IDF'], ndoc)\n",
        "rank_df['BM25'] = reciprocal_rank(query_df['BM25'], ndoc)\n",
        "rank_df.index+=1\n",
        "rank_df"
      ],
      "execution_count": 28,
      "outputs": [
        {
          "output_type": "execute_result",
          "data": {
            "text/html": [
              "<div>\n",
              "<style scoped>\n",
              "    .dataframe tbody tr th:only-of-type {\n",
              "        vertical-align: middle;\n",
              "    }\n",
              "\n",
              "    .dataframe tbody tr th {\n",
              "        vertical-align: top;\n",
              "    }\n",
              "\n",
              "    .dataframe thead th {\n",
              "        text-align: right;\n",
              "    }\n",
              "</style>\n",
              "<table border=\"1\" class=\"dataframe\">\n",
              "  <thead>\n",
              "    <tr style=\"text-align: right;\">\n",
              "      <th></th>\n",
              "      <th>Binary</th>\n",
              "      <th>TF</th>\n",
              "      <th>TF-IDF</th>\n",
              "      <th>BM25</th>\n",
              "    </tr>\n",
              "  </thead>\n",
              "  <tbody>\n",
              "    <tr>\n",
              "      <th>1</th>\n",
              "      <td>0.2</td>\n",
              "      <td>None</td>\n",
              "      <td>None</td>\n",
              "      <td>None</td>\n",
              "    </tr>\n",
              "  </tbody>\n",
              "</table>\n",
              "</div>"
            ],
            "text/plain": [
              "   Binary    TF TF-IDF  BM25\n",
              "1     0.2  None   None  None"
            ]
          },
          "metadata": {
            "tags": []
          },
          "execution_count": 28
        }
      ]
    },
    {
      "cell_type": "markdown",
      "metadata": {
        "id": "67V0Yrl4mTrv",
        "colab_type": "text"
      },
      "source": [
        "### 2_ A partir do gabarito fornecido em OBS1, calcule o MAP para cada algoritmo abaixo e aponte qual obteve o melhor resultado. Para os cálculos do MAP, considere que um documento é relevante para uma dada consulta se este documento estiver entre os documentos do gabarito para essa consulta, senão ele deve ser considerado irrelevante. "
      ]
    },
    {
      "cell_type": "code",
      "metadata": {
        "id": "jYje1w1JzQTi",
        "colab_type": "code",
        "colab": {}
      },
      "source": [
        "def doc_indexes(model):\n",
        "  return [doc for score,doc in model]\n",
        "\n",
        "def intersection(a,b):\n",
        "  return [elem for elem in a if elem in b]\n",
        "\n",
        "def calc_AP(query):\n",
        "  revelant_docs = []\n",
        "\n",
        "  for doc_info in feedback[query]:\n",
        "    row = result.loc[result.url == doc_info['URL']]\n",
        "    revelant_docs.append(row.index[0])\n",
        "  \n",
        "  binary, tf, tfidf, bm25 = create_topk_models(query, 10)\n",
        "  binary = doc_indexes(binary)\n",
        "  tf = doc_indexes(tf)\n",
        "  tfidf = doc_indexes(tfidf)\n",
        "  bm25 = doc_indexes(bm25)\n",
        "  \n",
        "  ap_binary = len(intersection(binary, revelant_docs)) / len(binary)\n",
        "  ap_tf = len(intersection(tf, revelant_docs)) / len(tf)\n",
        "  ap_tfidf = len(intersection(tfidf, revelant_docs)) / len(tfidf)\n",
        "  ap_bm25 = len(intersection(bm25, revelant_docs)) / len(bm25)\n",
        "  \n",
        "  return ap_binary, ap_tf, ap_tfidf, ap_bm25\n",
        "  \n",
        "def calc_MAP(queries):\n",
        "  sum_binary = 0\n",
        "  sum_tf = 0\n",
        "  sum_tfidf = 0\n",
        "  sum_bm25 = 0\n",
        "  \n",
        "  for query in queries:\n",
        "    ap_binary, ap_tf, ap_tfidf, ap_bm25 = calc_AP(query)\n",
        "    sum_binary += ap_binary\n",
        "    sum_tf += ap_tf\n",
        "    sum_tfidf += ap_tfidf\n",
        "    sum_bm25 += ap_bm25\n",
        "  \n",
        "  map_binary = round(sum_binary / len(queries),2)\n",
        "  map_tf = round(sum_tf / len(queries),2)\n",
        "  map_tfidf = round(sum_tfidf / len(queries),2)\n",
        "  map_bm25 = round(sum_bm25 / len(queries),2)\n",
        "  \n",
        "  return map_binary, map_tf, map_tfidf, map_bm25"
      ],
      "execution_count": 0,
      "outputs": []
    },
    {
      "cell_type": "code",
      "metadata": {
        "id": "uh6uTLmhzW5F",
        "colab_type": "code",
        "colab": {}
      },
      "source": [
        "map_binary, map_tf, map_tfidf, map_bm25 = calc_MAP(feedback.keys())\n"
      ],
      "execution_count": 0,
      "outputs": []
    },
    {
      "cell_type": "code",
      "metadata": {
        "id": "vKG7zMt9zYtq",
        "colab_type": "code",
        "colab": {
          "base_uri": "https://localhost:8080/",
          "height": 34
        },
        "outputId": "4b86f88e-03cf-40e4-b9dc-a6131b239360"
      },
      "source": [
        "map_binary\n"
      ],
      "execution_count": 31,
      "outputs": [
        {
          "output_type": "execute_result",
          "data": {
            "text/plain": [
              "0.08"
            ]
          },
          "metadata": {
            "tags": []
          },
          "execution_count": 31
        }
      ]
    },
    {
      "cell_type": "code",
      "metadata": {
        "id": "dJ8phAt8zZK3",
        "colab_type": "code",
        "colab": {
          "base_uri": "https://localhost:8080/",
          "height": 34
        },
        "outputId": "f06ac799-1c2c-4cbe-b968-65f03c973316"
      },
      "source": [
        "map_tf\n"
      ],
      "execution_count": 32,
      "outputs": [
        {
          "output_type": "execute_result",
          "data": {
            "text/plain": [
              "0.05"
            ]
          },
          "metadata": {
            "tags": []
          },
          "execution_count": 32
        }
      ]
    },
    {
      "cell_type": "code",
      "metadata": {
        "id": "8O2LhcZOzakJ",
        "colab_type": "code",
        "colab": {
          "base_uri": "https://localhost:8080/",
          "height": 34
        },
        "outputId": "29278660-21ee-4037-ebfe-90571a2ab6c3"
      },
      "source": [
        "map_tfidf"
      ],
      "execution_count": 33,
      "outputs": [
        {
          "output_type": "execute_result",
          "data": {
            "text/plain": [
              "0.13"
            ]
          },
          "metadata": {
            "tags": []
          },
          "execution_count": 33
        }
      ]
    },
    {
      "cell_type": "code",
      "metadata": {
        "id": "Mxs-h2zJzbuX",
        "colab_type": "code",
        "colab": {
          "base_uri": "https://localhost:8080/",
          "height": 34
        },
        "outputId": "4beecd4d-9efc-4966-a445-69eed4d7c6b8"
      },
      "source": [
        "map_bm25"
      ],
      "execution_count": 34,
      "outputs": [
        {
          "output_type": "execute_result",
          "data": {
            "text/plain": [
              "0.14"
            ]
          },
          "metadata": {
            "tags": []
          },
          "execution_count": 34
        }
      ]
    },
    {
      "cell_type": "markdown",
      "metadata": {
        "id": "D1ObbicDm0Kr",
        "colab_type": "text"
      },
      "source": [
        "### 3_Repita Q2 usando a avaliação multi-nível DCG. Utilize o campo \"level\" do gabarito para o cálculo do DCG e do idealDCG. "
      ]
    },
    {
      "cell_type": "code",
      "metadata": {
        "id": "F8XiF-Y9wM-7",
        "colab_type": "code",
        "colab": {}
      },
      "source": [
        ""
      ],
      "execution_count": 0,
      "outputs": []
    }
  ]
}