{
  "nbformat": 4,
  "nbformat_minor": 0,
  "metadata": {
    "colab": {
      "name": "lab06.ipynb",
      "version": "0.3.2",
      "provenance": [],
      "collapsed_sections": [],
      "include_colab_link": true
    },
    "kernelspec": {
      "name": "python3",
      "display_name": "Python 3"
    }
  },
  "cells": [
    {
      "cell_type": "markdown",
      "metadata": {
        "id": "view-in-github",
        "colab_type": "text"
      },
      "source": [
        "<a href=\"https://colab.research.google.com/github/RaquelRufino/InformationRetrieval/blob/master/ri_lab_06/lab06.ipynb\" target=\"_parent\"><img src=\"https://colab.research.google.com/assets/colab-badge.svg\" alt=\"Open In Colab\"/></a>"
      ]
    },
    {
      "cell_type": "code",
      "metadata": {
        "id": "ilioTgO4-v_y",
        "colab_type": "code",
        "outputId": "4efc39c6-129f-467a-d093-69189e929d46",
        "colab": {
          "base_uri": "https://localhost:8080/",
          "height": 51
        }
      },
      "source": [
        "import pandas as pd\n",
        "import numpy as np\n",
        "import nltk\n",
        "import re\n",
        "import collections\n",
        "import bisect\n",
        "from nltk.tokenize import RegexpTokenizer\n",
        "\n",
        "nltk.download('stopwords')\n",
        "result = pd.read_csv(\"https://raw.githubusercontent.com/RaquelRufino/InformationRetrieval/master/ri_lab_04/results.csv\")\n"
      ],
      "execution_count": 75,
      "outputs": [
        {
          "output_type": "stream",
          "text": [
            "[nltk_data] Downloading package stopwords to /root/nltk_data...\n",
            "[nltk_data]   Package stopwords is already up-to-date!\n"
          ],
          "name": "stdout"
        }
      ]
    },
    {
      "cell_type": "markdown",
      "metadata": {
        "id": "NJgKAoMfFdk-",
        "colab_type": "text"
      },
      "source": [
        "### Reconstruir o índice considerando o conjunto de dados que indicamos. Esses são os dados coletados por Bernardi e os estaremos usando para facilitar a correção da atividade. Se você já estiver usando esses dados não precisa reconstruir o índice;"
      ]
    },
    {
      "cell_type": "code",
      "metadata": {
        "id": "FYReQxp_Ffgj",
        "colab_type": "code",
        "colab": {}
      },
      "source": [
        "tknz = RegexpTokenizer(r'([A-Za-zÁáÉéÍíÓóÚúÃãÕõÇçÂâÊê]{3,27})')\n",
        "stopwords = nltk.corpus.stopwords.words('portuguese') \n",
        "indexes = {}\n",
        "n = 0\n",
        "\n",
        "for text in result.text:\n",
        "  words = [word for word in tknz.tokenize(text.lower())\n",
        "           if not bool(re.search(r'\\d', word))\n",
        "           and word not in stopwords and len(word) >= 3]  \n",
        "  n += 1\n",
        "  for t in words:\n",
        "    if t not in indexes.keys():\n",
        "      indexes[t] = []\n",
        "    indexes[t].append(n)\n",
        "    \n",
        "for elem in indexes.items():\n",
        "  d = dict(collections.Counter(elem[1]))\n",
        "  indexes[elem[0]] = list(d.items())"
      ],
      "execution_count": 0,
      "outputs": []
    },
    {
      "cell_type": "markdown",
      "metadata": {
        "id": "f9rgFqt-F5nB",
        "colab_type": "text"
      },
      "source": [
        "###Refinar o índice invertido de forma a também incluir o IDF (inverse document frequency) de cada termo do dicionário; "
      ]
    },
    {
      "cell_type": "code",
      "metadata": {
        "id": "bN-dv3A-_MjS",
        "colab_type": "code",
        "colab": {}
      },
      "source": [
        "M = result.text.count()\n",
        "for word in indexes:\n",
        "  k = len(indexes[word])\n",
        "  IDF = round(np.log((M+1)/k),2)\n",
        "  indexes[word].append(IDF)"
      ],
      "execution_count": 0,
      "outputs": []
    },
    {
      "cell_type": "markdown",
      "metadata": {
        "id": "SCrvWm7VGA85",
        "colab_type": "text"
      },
      "source": [
        "###Implementar as seguintes versões do modelo vetorial:(10 pts)\n",
        "\n",
        "    Representação binária;\n",
        "    "
      ]
    },
    {
      "cell_type": "code",
      "metadata": {
        "id": "6eUnn2Gz_TDQ",
        "colab_type": "code",
        "colab": {}
      },
      "source": [
        "\n",
        "def binary_vsm(query, document):\n",
        "  score = 0\n",
        "  query_tokens = query.split()\n",
        "  doc_tokens = document.split()\n",
        "  \n",
        "  for token in query_tokens:\n",
        "    score += (token in doc_tokens)\n",
        "    \n",
        "  return score"
      ],
      "execution_count": 0,
      "outputs": []
    },
    {
      "cell_type": "markdown",
      "metadata": {
        "id": "1Qd0GlBi_YEZ",
        "colab_type": "text"
      },
      "source": [
        "TF (lembre-se que esse modelo já está implementado);\n"
      ]
    },
    {
      "cell_type": "code",
      "metadata": {
        "id": "56h4Abf-_g45",
        "colab_type": "code",
        "colab": {}
      },
      "source": [
        "def tf_vsm(query, document):\n",
        "  score = 0\n",
        "  doc_tokens = document.split()\n",
        "  query_tokens = query.split()\n",
        "  \n",
        "  for word in query_tokens:\n",
        "    score += doc_tokens.count(word)\n",
        "  \n",
        "  return score"
      ],
      "execution_count": 0,
      "outputs": []
    },
    {
      "cell_type": "markdown",
      "metadata": {
        "id": "ZmSu7Ym8_iC6",
        "colab_type": "text"
      },
      "source": [
        "    TF-IDF;\n"
      ]
    },
    {
      "cell_type": "code",
      "metadata": {
        "id": "P6CejpUb_kvK",
        "colab_type": "code",
        "colab": {}
      },
      "source": [
        "def tfidf_vsm(query, document):\n",
        "  score = 0\n",
        "  doc_tokens = document.split()\n",
        "  query_tokens = query.split()\n",
        "  \n",
        "  for word in query_tokens:\n",
        "    cwd = doc_tokens.count(word)\n",
        "    score += cwd * indexes[word][-1]\n",
        "  \n",
        "  return round(score,2)"
      ],
      "execution_count": 0,
      "outputs": []
    },
    {
      "cell_type": "markdown",
      "metadata": {
        "id": "cB3CvBBv_l2C",
        "colab_type": "text"
      },
      "source": [
        "BM25* (não usaremos Okapi já que os documentos não tem grande variação de tamanho)."
      ]
    },
    {
      "cell_type": "code",
      "metadata": {
        "id": "UC7ukQbD_mnv",
        "colab_type": "code",
        "colab": {}
      },
      "source": [
        "def bm25_vsm(query, document, k):\n",
        "  score = 0\n",
        "  doc_tokens = document.split()\n",
        "  query_tokens = query.split()\n",
        "  \n",
        "  words = [word for word in query_tokens if word in doc_tokens]\n",
        "    \n",
        "  for word in words:\n",
        "    cwd = doc_tokens.count(word)\n",
        "    dfw = len(indexes[word][:-1])\n",
        "    score += (((k+1) * cwd) / (cwd + k)) * np.log10(((M+1) / dfw))\n",
        "  \n",
        "  return round(score,2)"
      ],
      "execution_count": 0,
      "outputs": []
    },
    {
      "cell_type": "markdown",
      "metadata": {
        "id": "XJbZxBTwGQwk",
        "colab_type": "text"
      },
      "source": [
        "### Execute os algoritmos separadamente em 3 consultas de sua escolha e retorne os top-5 documentos mais similares à cada consulta;"
      ]
    },
    {
      "cell_type": "code",
      "metadata": {
        "id": "jDrmiVBT_z6U",
        "colab_type": "code",
        "colab": {}
      },
      "source": [
        "consultas = ['educação', 'governo', 'bolsonaro']"
      ],
      "execution_count": 0,
      "outputs": []
    },
    {
      "cell_type": "code",
      "metadata": {
        "id": "GSMNSbytAIcg",
        "colab_type": "code",
        "colab": {}
      },
      "source": [
        "def top5Documentos(consulta):\n",
        "  n = 0\n",
        "  d_binaria = []\n",
        "  d_tf = []\n",
        "  d_tfidf = []\n",
        "  d_bm25 = []\n",
        "  for documento in result.text:\n",
        "    documento = documento.lower()\n",
        "    n += 1\n",
        "    bisect.insort(d_binaria, binary_vsm(consulta, documento), n)\n",
        "    bisect.insort(d_tf, (tf_vsm(consulta, documento), n))\n",
        "    bisect.insort(d_tfidf, (tfidf_vsm(consulta, documento), n))\n",
        "    bisect.insort(d_bm25, (bm25_vsm(consulta, documento, 10), n))\n",
        "  \n",
        "  d_binaria.reverse()\n",
        "  d_tf.reverse()\n",
        "  d_tfidf.reverse()\n",
        "  d_bm25.reverse()\n",
        "  \n",
        "  return d_binaria[:5], d_tf[:5], d_tfidf[:5], d_bm25[:5]"
      ],
      "execution_count": 0,
      "outputs": []
    },
    {
      "cell_type": "code",
      "metadata": {
        "id": "2iKogzZIALJE",
        "colab_type": "code",
        "colab": {}
      },
      "source": [
        "\n",
        "top5_binary = ['','','']\n",
        "top5_tf = ['','','']\n",
        "top5_tfidf = ['','','']\n",
        "top5_bm25 = ['','','']\n",
        "\n",
        "top5_binary[0], top5_tf[0], top5_tfidf[0], top5_bm25[0] = create_top5_models(consultas[0])\n",
        "top5_binary[1], top5_tf[1], top5_tfidf[1], top5_bm25[1] = create_top5_models(consultas[1])\n",
        "top5_binary[2], top5_tf[2], top5_tfidf[2], top5_bm25[2] = create_top5_models(consultas[2])"
      ],
      "execution_count": 0,
      "outputs": []
    },
    {
      "cell_type": "code",
      "metadata": {
        "id": "YtZVOL8EAX-N",
        "colab_type": "code",
        "colab": {
          "base_uri": "https://localhost:8080/",
          "height": 193
        },
        "outputId": "006c3f5b-bdbd-44ca-812e-3c98cfa43431"
      },
      "source": [
        "query_df = pd.DataFrame()\n",
        "\n",
        "query_df['Query'] = consultas\n",
        "query_df['Binary'] = top5_binary\n",
        "query_df['TF'] = top5_tf\n",
        "query_df['TF-IDF'] = top5_tfidf\n",
        "query_df['BM25'] = top5_bm25\n",
        "\n",
        "query_df.index+=1\n",
        "query_df"
      ],
      "execution_count": 85,
      "outputs": [
        {
          "output_type": "execute_result",
          "data": {
            "text/html": [
              "<div>\n",
              "<style scoped>\n",
              "    .dataframe tbody tr th:only-of-type {\n",
              "        vertical-align: middle;\n",
              "    }\n",
              "\n",
              "    .dataframe tbody tr th {\n",
              "        vertical-align: top;\n",
              "    }\n",
              "\n",
              "    .dataframe thead th {\n",
              "        text-align: right;\n",
              "    }\n",
              "</style>\n",
              "<table border=\"1\" class=\"dataframe\">\n",
              "  <thead>\n",
              "    <tr style=\"text-align: right;\">\n",
              "      <th></th>\n",
              "      <th>Query</th>\n",
              "      <th>Binary</th>\n",
              "      <th>TF</th>\n",
              "      <th>TF-IDF</th>\n",
              "      <th>BM25</th>\n",
              "    </tr>\n",
              "  </thead>\n",
              "  <tbody>\n",
              "    <tr>\n",
              "      <th>1</th>\n",
              "      <td>educação</td>\n",
              "      <td>[(1, 248), (1, 240), (1, 239), (1, 233), (1, 2...</td>\n",
              "      <td>[(15, 221), (8, 222), (6, 239), (6, 130), (5, ...</td>\n",
              "      <td>[(32.85, 221), (17.52, 222), (13.14, 239), (13...</td>\n",
              "      <td>[(6.28, 221), (4.65, 222), (3.92, 239), (3.92,...</td>\n",
              "    </tr>\n",
              "    <tr>\n",
              "      <th>2</th>\n",
              "      <td>governo</td>\n",
              "      <td>[(1, 249), (1, 248), (1, 246), (1, 245), (1, 2...</td>\n",
              "      <td>[(14, 173), (12, 166), (10, 248), (9, 115), (8...</td>\n",
              "      <td>[(12.46, 173), (10.68, 166), (8.9, 248), (8.01...</td>\n",
              "      <td>[(2.47, 173), (2.31, 166), (2.12, 248), (2.01,...</td>\n",
              "    </tr>\n",
              "    <tr>\n",
              "      <th>3</th>\n",
              "      <td>bolsonaro</td>\n",
              "      <td>[(1, 248), (1, 240), (1, 238), (1, 237), (1, 2...</td>\n",
              "      <td>[(32, 151), (30, 207), (30, 166), (19, 19), (1...</td>\n",
              "      <td>[(42.24, 151), (39.6, 207), (39.6, 166), (25.0...</td>\n",
              "      <td>[(4.79, 151), (4.72, 207), (4.72, 166), (4.12,...</td>\n",
              "    </tr>\n",
              "  </tbody>\n",
              "</table>\n",
              "</div>"
            ],
            "text/plain": [
              "       Query  ...                                               BM25\n",
              "1   educação  ...  [(6.28, 221), (4.65, 222), (3.92, 239), (3.92,...\n",
              "2    governo  ...  [(2.47, 173), (2.31, 166), (2.12, 248), (2.01,...\n",
              "3  bolsonaro  ...  [(4.79, 151), (4.72, 207), (4.72, 166), (4.12,...\n",
              "\n",
              "[3 rows x 5 columns]"
            ]
          },
          "metadata": {
            "tags": []
          },
          "execution_count": 85
        }
      ]
    },
    {
      "cell_type": "markdown",
      "metadata": {
        "id": "s07PyXL6GXZK",
        "colab_type": "text"
      },
      "source": [
        "### Compare os resultados encontrados e responda."
      ]
    },
    {
      "cell_type": "markdown",
      "metadata": {
        "id": "7_JeYmg0GcSe",
        "colab_type": "text"
      },
      "source": [
        "#### Quais modelos você acha que trouxe os melhores resultados? Por que? Inspecione os documentos retornados para melhor embasar sua resposta"
      ]
    },
    {
      "cell_type": "code",
      "metadata": {
        "id": "ySDVP7VXKE83",
        "colab_type": "code",
        "colab": {}
      },
      "source": [
        "\n",
        "def get_top1_score(top5):\n",
        "  return [top[0][0] for top in top5]\n",
        "\n",
        "def get_top1_doc(top5):\n",
        "  return [top[0][1] for top in top5]\n",
        "\n"
      ],
      "execution_count": 0,
      "outputs": []
    },
    {
      "cell_type": "code",
      "metadata": {
        "id": "NNS1NpuLKHnj",
        "colab_type": "code",
        "colab": {}
      },
      "source": [
        "score_top5_binary = get_top1_score(top5_binary)\n",
        "score_top5_tf = get_top1_score(top5_tf)\n",
        "score_top5_tfidf = get_top1_score(top5_tfidf)\n",
        "score_top5_bm25 = get_top1_score(top5_bm25)\n",
        "\n",
        "doc_top5_binary = get_top1_doc(top5_binary)\n",
        "doc_top5_tf = get_top1_doc(top5_tf)\n",
        "doc_top5_tfidf = get_top1_doc(top5_tfidf)\n",
        "doc_top5_bm25 = get_top1_doc(top5_bm25)\n",
        "\n"
      ],
      "execution_count": 0,
      "outputs": []
    },
    {
      "cell_type": "markdown",
      "metadata": {
        "id": "SBfd7qHmNI6a",
        "colab_type": "text"
      },
      "source": [
        "**Representação binária**"
      ]
    },
    {
      "cell_type": "code",
      "metadata": {
        "id": "Y40GuhgUNMwY",
        "colab_type": "code",
        "colab": {
          "base_uri": "https://localhost:8080/",
          "height": 142
        },
        "outputId": "01c33646-33e5-4e5e-b79f-14074d556947"
      },
      "source": [
        "binary_res = pd.DataFrame()\n",
        "binary_res['Query'] = queries\n",
        "binary_res['Document'] = doc_top5_binary\n",
        "binary_res['Binary Score'] = score_top5_binary\n",
        "\n",
        "binary_res.index += 1\n",
        "binary_res"
      ],
      "execution_count": 90,
      "outputs": [
        {
          "output_type": "execute_result",
          "data": {
            "text/html": [
              "<div>\n",
              "<style scoped>\n",
              "    .dataframe tbody tr th:only-of-type {\n",
              "        vertical-align: middle;\n",
              "    }\n",
              "\n",
              "    .dataframe tbody tr th {\n",
              "        vertical-align: top;\n",
              "    }\n",
              "\n",
              "    .dataframe thead th {\n",
              "        text-align: right;\n",
              "    }\n",
              "</style>\n",
              "<table border=\"1\" class=\"dataframe\">\n",
              "  <thead>\n",
              "    <tr style=\"text-align: right;\">\n",
              "      <th></th>\n",
              "      <th>Query</th>\n",
              "      <th>Document</th>\n",
              "      <th>Binary Score</th>\n",
              "    </tr>\n",
              "  </thead>\n",
              "  <tbody>\n",
              "    <tr>\n",
              "      <th>1</th>\n",
              "      <td>Sergio Moro</td>\n",
              "      <td>248</td>\n",
              "      <td>1</td>\n",
              "    </tr>\n",
              "    <tr>\n",
              "      <th>2</th>\n",
              "      <td>Presidente Bolsonaro</td>\n",
              "      <td>249</td>\n",
              "      <td>1</td>\n",
              "    </tr>\n",
              "    <tr>\n",
              "      <th>3</th>\n",
              "      <td>Paulo Guedes</td>\n",
              "      <td>248</td>\n",
              "      <td>1</td>\n",
              "    </tr>\n",
              "  </tbody>\n",
              "</table>\n",
              "</div>"
            ],
            "text/plain": [
              "                  Query  Document  Binary Score\n",
              "1           Sergio Moro       248             1\n",
              "2  Presidente Bolsonaro       249             1\n",
              "3          Paulo Guedes       248             1"
            ]
          },
          "metadata": {
            "tags": []
          },
          "execution_count": 90
        }
      ]
    },
    {
      "cell_type": "markdown",
      "metadata": {
        "id": "gyX9X2uONSTL",
        "colab_type": "text"
      },
      "source": [
        "**TF**"
      ]
    },
    {
      "cell_type": "code",
      "metadata": {
        "id": "DKW8gMqGNTO9",
        "colab_type": "code",
        "colab": {
          "base_uri": "https://localhost:8080/",
          "height": 142
        },
        "outputId": "5486a87c-2b62-49a4-a1b6-72927150e19b"
      },
      "source": [
        "tf_res = pd.DataFrame()\n",
        "tf_res['Query'] = queries\n",
        "tf_res['Document'] = doc_top5_tf\n",
        "tf_res['TF Score'] = score_top5_tf\n",
        "\n",
        "tf_res.index += 1\n",
        "tf_res"
      ],
      "execution_count": 91,
      "outputs": [
        {
          "output_type": "execute_result",
          "data": {
            "text/html": [
              "<div>\n",
              "<style scoped>\n",
              "    .dataframe tbody tr th:only-of-type {\n",
              "        vertical-align: middle;\n",
              "    }\n",
              "\n",
              "    .dataframe tbody tr th {\n",
              "        vertical-align: top;\n",
              "    }\n",
              "\n",
              "    .dataframe thead th {\n",
              "        text-align: right;\n",
              "    }\n",
              "</style>\n",
              "<table border=\"1\" class=\"dataframe\">\n",
              "  <thead>\n",
              "    <tr style=\"text-align: right;\">\n",
              "      <th></th>\n",
              "      <th>Query</th>\n",
              "      <th>Document</th>\n",
              "      <th>TF Score</th>\n",
              "    </tr>\n",
              "  </thead>\n",
              "  <tbody>\n",
              "    <tr>\n",
              "      <th>1</th>\n",
              "      <td>Sergio Moro</td>\n",
              "      <td>221</td>\n",
              "      <td>15</td>\n",
              "    </tr>\n",
              "    <tr>\n",
              "      <th>2</th>\n",
              "      <td>Presidente Bolsonaro</td>\n",
              "      <td>173</td>\n",
              "      <td>14</td>\n",
              "    </tr>\n",
              "    <tr>\n",
              "      <th>3</th>\n",
              "      <td>Paulo Guedes</td>\n",
              "      <td>151</td>\n",
              "      <td>32</td>\n",
              "    </tr>\n",
              "  </tbody>\n",
              "</table>\n",
              "</div>"
            ],
            "text/plain": [
              "                  Query  Document  TF Score\n",
              "1           Sergio Moro       221        15\n",
              "2  Presidente Bolsonaro       173        14\n",
              "3          Paulo Guedes       151        32"
            ]
          },
          "metadata": {
            "tags": []
          },
          "execution_count": 91
        }
      ]
    },
    {
      "cell_type": "markdown",
      "metadata": {
        "id": "kEpu4YM8NWBV",
        "colab_type": "text"
      },
      "source": [
        "**TF-IDF**"
      ]
    },
    {
      "cell_type": "code",
      "metadata": {
        "id": "dG4HIWOuNaZf",
        "colab_type": "code",
        "colab": {
          "base_uri": "https://localhost:8080/",
          "height": 142
        },
        "outputId": "973153ff-fcd8-46c3-e7a1-7d9d79ed2d7d"
      },
      "source": [
        "tfidf_res = pd.DataFrame()\n",
        "tfidf_res['Query'] = queries\n",
        "tfidf_res['Document'] = doc_top5_tfidf\n",
        "tfidf_res['TFIDF Score'] = score_top5_tfidf\n",
        "\n",
        "tfidf_res.index += 1\n",
        "tfidf_res"
      ],
      "execution_count": 93,
      "outputs": [
        {
          "output_type": "execute_result",
          "data": {
            "text/html": [
              "<div>\n",
              "<style scoped>\n",
              "    .dataframe tbody tr th:only-of-type {\n",
              "        vertical-align: middle;\n",
              "    }\n",
              "\n",
              "    .dataframe tbody tr th {\n",
              "        vertical-align: top;\n",
              "    }\n",
              "\n",
              "    .dataframe thead th {\n",
              "        text-align: right;\n",
              "    }\n",
              "</style>\n",
              "<table border=\"1\" class=\"dataframe\">\n",
              "  <thead>\n",
              "    <tr style=\"text-align: right;\">\n",
              "      <th></th>\n",
              "      <th>Query</th>\n",
              "      <th>Document</th>\n",
              "      <th>TFIDF Score</th>\n",
              "    </tr>\n",
              "  </thead>\n",
              "  <tbody>\n",
              "    <tr>\n",
              "      <th>1</th>\n",
              "      <td>Sergio Moro</td>\n",
              "      <td>221</td>\n",
              "      <td>32.85</td>\n",
              "    </tr>\n",
              "    <tr>\n",
              "      <th>2</th>\n",
              "      <td>Presidente Bolsonaro</td>\n",
              "      <td>173</td>\n",
              "      <td>12.46</td>\n",
              "    </tr>\n",
              "    <tr>\n",
              "      <th>3</th>\n",
              "      <td>Paulo Guedes</td>\n",
              "      <td>151</td>\n",
              "      <td>42.24</td>\n",
              "    </tr>\n",
              "  </tbody>\n",
              "</table>\n",
              "</div>"
            ],
            "text/plain": [
              "                  Query  Document  TFIDF Score\n",
              "1           Sergio Moro       221        32.85\n",
              "2  Presidente Bolsonaro       173        12.46\n",
              "3          Paulo Guedes       151        42.24"
            ]
          },
          "metadata": {
            "tags": []
          },
          "execution_count": 93
        }
      ]
    },
    {
      "cell_type": "markdown",
      "metadata": {
        "id": "DnhZ2CSFNewE",
        "colab_type": "text"
      },
      "source": [
        "**BM-25**"
      ]
    },
    {
      "cell_type": "code",
      "metadata": {
        "id": "vpnnGx4CNhNd",
        "colab_type": "code",
        "colab": {
          "base_uri": "https://localhost:8080/",
          "height": 142
        },
        "outputId": "14966821-964f-468d-d6e1-3622eb2af02b"
      },
      "source": [
        "\n",
        "bm25_res = pd.DataFrame()\n",
        "bm25_res['Query'] = queries\n",
        "bm25_res['Document'] = doc_top5_bm25\n",
        "bm25_res['BM25 Score'] = score_top5_bm25\n",
        "\n",
        "bm25_res.index += 1\n",
        "bm25_res"
      ],
      "execution_count": 95,
      "outputs": [
        {
          "output_type": "execute_result",
          "data": {
            "text/html": [
              "<div>\n",
              "<style scoped>\n",
              "    .dataframe tbody tr th:only-of-type {\n",
              "        vertical-align: middle;\n",
              "    }\n",
              "\n",
              "    .dataframe tbody tr th {\n",
              "        vertical-align: top;\n",
              "    }\n",
              "\n",
              "    .dataframe thead th {\n",
              "        text-align: right;\n",
              "    }\n",
              "</style>\n",
              "<table border=\"1\" class=\"dataframe\">\n",
              "  <thead>\n",
              "    <tr style=\"text-align: right;\">\n",
              "      <th></th>\n",
              "      <th>Query</th>\n",
              "      <th>Document</th>\n",
              "      <th>BM25 Score</th>\n",
              "    </tr>\n",
              "  </thead>\n",
              "  <tbody>\n",
              "    <tr>\n",
              "      <th>1</th>\n",
              "      <td>Sergio Moro</td>\n",
              "      <td>221</td>\n",
              "      <td>6.28</td>\n",
              "    </tr>\n",
              "    <tr>\n",
              "      <th>2</th>\n",
              "      <td>Presidente Bolsonaro</td>\n",
              "      <td>173</td>\n",
              "      <td>2.47</td>\n",
              "    </tr>\n",
              "    <tr>\n",
              "      <th>3</th>\n",
              "      <td>Paulo Guedes</td>\n",
              "      <td>151</td>\n",
              "      <td>4.79</td>\n",
              "    </tr>\n",
              "  </tbody>\n",
              "</table>\n",
              "</div>"
            ],
            "text/plain": [
              "                  Query  Document  BM25 Score\n",
              "1           Sergio Moro       221        6.28\n",
              "2  Presidente Bolsonaro       173        2.47\n",
              "3          Paulo Guedes       151        4.79"
            ]
          },
          "metadata": {
            "tags": []
          },
          "execution_count": 95
        }
      ]
    },
    {
      "cell_type": "markdown",
      "metadata": {
        "id": "ziXkznCguolG",
        "colab_type": "text"
      },
      "source": [
        "O TD-IDF teve o melhor resultado para as 3 consultas consideradas.\n"
      ]
    },
    {
      "cell_type": "markdown",
      "metadata": {
        "id": "KhFxMEcHGdwY",
        "colab_type": "text"
      },
      "source": [
        "#### Calcule e reporte o overlap par-a-par entre os resultados de cada modelo."
      ]
    },
    {
      "cell_type": "code",
      "metadata": {
        "id": "9uwbOrLDHLZr",
        "colab_type": "code",
        "colab": {}
      },
      "source": [
        "\n",
        "def inter_size(a,b):\n",
        "  return len([elem for elem in a if elem in b])\n",
        "\n",
        "def jaccard_index(a,b):\n",
        "  n_a = len(a)\n",
        "  n_b = len(b)\n",
        "  n_ab = inter_size(a,b)\n",
        "  exp = n_a + n_b - n_ab\n",
        "  jaccard = n_ab / exp if exp != 0 else 0\n",
        "  return jaccard"
      ],
      "execution_count": 0,
      "outputs": []
    },
    {
      "cell_type": "code",
      "metadata": {
        "id": "B_8cA_HFHO6X",
        "colab_type": "code",
        "colab": {
          "base_uri": "https://localhost:8080/",
          "height": 204
        },
        "outputId": "7eda534a-d506-433c-d8a6-067122cc0797"
      },
      "source": [
        "all_docs = []\n",
        "all_docs.append(top5_binary)\n",
        "all_docs.append(top5_bm25)\n",
        "all_docs.append(top5_tf)\n",
        "all_docs.append(top5_tfidf)\n",
        "\n",
        "matrix = [['Measure', 'Binary', 'TF', 'TF-IDF', 'BM25']]\n",
        "titles = matrix\n",
        "for i in range(len(all_docs)):\n",
        "  line = []\n",
        "  for j in range(len(all_docs)):\n",
        "    jaccard = jaccard_index(all_docs[i], all_docs[j])\n",
        "    line.append(round(jaccard,2))\n",
        "  matrix.append(line)\n",
        "for i in range(1, len(matrix)):\n",
        "  matrix[i].insert(0, matrix[0][i])\n",
        "  \n",
        "pd.DataFrame(matrix)"
      ],
      "execution_count": 97,
      "outputs": [
        {
          "output_type": "execute_result",
          "data": {
            "text/html": [
              "<div>\n",
              "<style scoped>\n",
              "    .dataframe tbody tr th:only-of-type {\n",
              "        vertical-align: middle;\n",
              "    }\n",
              "\n",
              "    .dataframe tbody tr th {\n",
              "        vertical-align: top;\n",
              "    }\n",
              "\n",
              "    .dataframe thead th {\n",
              "        text-align: right;\n",
              "    }\n",
              "</style>\n",
              "<table border=\"1\" class=\"dataframe\">\n",
              "  <thead>\n",
              "    <tr style=\"text-align: right;\">\n",
              "      <th></th>\n",
              "      <th>0</th>\n",
              "      <th>1</th>\n",
              "      <th>2</th>\n",
              "      <th>3</th>\n",
              "      <th>4</th>\n",
              "    </tr>\n",
              "  </thead>\n",
              "  <tbody>\n",
              "    <tr>\n",
              "      <th>0</th>\n",
              "      <td>Measure</td>\n",
              "      <td>Binary</td>\n",
              "      <td>TF</td>\n",
              "      <td>TF-IDF</td>\n",
              "      <td>BM25</td>\n",
              "    </tr>\n",
              "    <tr>\n",
              "      <th>1</th>\n",
              "      <td>Binary</td>\n",
              "      <td>1</td>\n",
              "      <td>0</td>\n",
              "      <td>0</td>\n",
              "      <td>0</td>\n",
              "    </tr>\n",
              "    <tr>\n",
              "      <th>2</th>\n",
              "      <td>TF</td>\n",
              "      <td>0</td>\n",
              "      <td>1</td>\n",
              "      <td>0</td>\n",
              "      <td>0</td>\n",
              "    </tr>\n",
              "    <tr>\n",
              "      <th>3</th>\n",
              "      <td>TF-IDF</td>\n",
              "      <td>0</td>\n",
              "      <td>0</td>\n",
              "      <td>1</td>\n",
              "      <td>0</td>\n",
              "    </tr>\n",
              "    <tr>\n",
              "      <th>4</th>\n",
              "      <td>BM25</td>\n",
              "      <td>0</td>\n",
              "      <td>0</td>\n",
              "      <td>0</td>\n",
              "      <td>1</td>\n",
              "    </tr>\n",
              "  </tbody>\n",
              "</table>\n",
              "</div>"
            ],
            "text/plain": [
              "         0       1   2       3     4\n",
              "0  Measure  Binary  TF  TF-IDF  BM25\n",
              "1   Binary       1   0       0     0\n",
              "2       TF       0   1       0     0\n",
              "3   TF-IDF       0   0       1     0\n",
              "4     BM25       0   0       0     1"
            ]
          },
          "metadata": {
            "tags": []
          },
          "execution_count": 97
        }
      ]
    },
    {
      "cell_type": "markdown",
      "metadata": {
        "id": "nEF9v2hAHh5F",
        "colab_type": "text"
      },
      "source": [
        "O indice de Jaccard mostrou que os resultados de todos os modelos foram diferentes, o que pode ser atribuído à sua ingenuidade."
      ]
    }
  ]
}